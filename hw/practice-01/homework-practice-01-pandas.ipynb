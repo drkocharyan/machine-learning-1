{
 "cells": [
  {
   "cell_type": "markdown",
   "metadata": {
    "id": "HcF9My_FhLuk"
   },
   "source": [
    "## Машинное обучение 1, ПМИ ФКН ВШЭ\n",
    "\n",
    "## Практическое домашнее задание 1\n",
    "\n",
    "### Общая информация\n",
    "\n",
    "Дата выдачи: 09.09.2022\n",
    "\n",
    "Мягкий дедлайн: 23:59MSK 22.09.2022\n",
    "\n",
    "Жесткий дедлайн: 23:59MSK 29.09.2022"
   ]
  },
  {
   "cell_type": "markdown",
   "metadata": {
    "id": "G64TptyJhLuo"
   },
   "source": [
    "### О задании\n",
    "\n",
    "Задание состоит из двух разделов, посвященных работе с табличными данными с помощью библиотеки pandas и визуализации с помощью matplotlib. В первом разделе вам предстоит выполнить базовые задания с помощью вышеуказанных библиотек, а во втором распределить студентов по курсам. Баллы даются за выполнение отдельных пунктов. Задачи в рамках одного раздела рекомендуется решать в том порядке, в котором они даны в задании.\n",
    "\n",
    "Задание направлено на освоение jupyter notebook (будет использоваться в дальнейших заданиях), библиотек pandas и matplotlib.\n",
    "\n",
    "### Оценивание и штрафы\n",
    "Каждая из задач имеет определенную «стоимость» (указана в скобках около задачи). Максимально допустимая оценка за работу — 10 баллов.\n",
    "\n",
    "Сдавать задание после жёсткого дедлайна нельзя. При выставлении неполного балла за задание в связи с наличием ошибок на усмотрение проверяющего предусмотрена возможность исправить работу на указанных в ответном письме условиях.\n",
    "\n",
    "Задание выполняется самостоятельно. «Похожие» решения считаются плагиатом и все задействованные студенты (в том числе те, у кого списали) не могут получить за него больше 0 баллов (подробнее о плагиате см. на странице курса). Если вы нашли решение какого-то из заданий (или его часть) в открытом источнике, необходимо указать ссылку на этот источник (скорее всего вы будете не единственным, кто это нашел, поэтому чтобы исключить подозрение в плагиате, необходима ссылка на источник).\n",
    "\n",
    "### Формат сдачи\n",
    "Задания сдаются через систему Anytask. Инвайт можно получить у семинариста или ассистента. Присылать необходимо ноутбук с выполненным заданием. Сам ноутбук называйте в формате homework-practice-01-pandas-Username.ipynb, где Username — ваша фамилия.\n",
    "\n",
    "Для удобства проверки самостоятельно посчитайте свою максимальную оценку (исходя из набора решенных задач) и укажите ниже.\n",
    "\n",
    "Оценка: xx."
   ]
  },
  {
   "cell_type": "markdown",
   "metadata": {
    "id": "BaXlfHE_hLup"
   },
   "source": [
    "## 0. Введение"
   ]
  },
  {
   "cell_type": "markdown",
   "metadata": {
    "id": "wirAvJNxhLup"
   },
   "source": [
    "Сейчас мы находимся в jupyter-ноутбуке (или ipython-ноутбуке). Это удобная среда для написания кода, проведения экспериментов, изучения данных, построения визуализаций и других нужд, не связанных с написанием production-кода. \n",
    "\n",
    "Ноутбук состоит из ячеек, каждая из которых может быть либо ячейкой с кодом, либо ячейкой с текстом размеченным и неразмеченным. Текст поддерживает markdown-разметку и формулы в Latex.\n",
    "\n",
    "Для работы с содержимым ячейки используется *режим редактирования* (*Edit mode*, включается нажатием клавиши **Enter** после выбора ячейки), а для навигации между ячейками искользуется *командный режим* (*Command mode*, включается нажатием клавиши **Esc**). Тип ячейки можно задать в командном режиме либо с помощью горячих клавиш (**y** to code, **m** to markdown, **r** to edit raw text), либо в меню *Cell -> Cell type*. \n",
    "\n",
    "После заполнения ячейки нужно нажать *Shift + Enter*, эта команда обработает содержимое ячейки: проинтерпретирует код или сверстает размеченный текст."
   ]
  },
  {
   "cell_type": "code",
   "execution_count": null,
   "metadata": {
    "id": "aQ2_j3nkhLuq"
   },
   "outputs": [],
   "source": [
    "# ячейка с кодом, при выполнении которой появится output\n",
    "2 + 2"
   ]
  },
  {
   "cell_type": "markdown",
   "metadata": {
    "id": "ZlulCwVKhLur"
   },
   "source": [
    "Ячейка с неразмеченыным текстом."
   ]
  },
  {
   "cell_type": "markdown",
   "metadata": {
    "id": "A4wkVlIehLur"
   },
   "source": [
    "Попробуйте создать свои ячейки, написать какой-нибудь код и текст какой-нибудь формулой."
   ]
  },
  {
   "cell_type": "code",
   "execution_count": null,
   "metadata": {
    "id": "BIuaYSvqhLus"
   },
   "outputs": [],
   "source": [
    "# your code"
   ]
  },
  {
   "cell_type": "markdown",
   "metadata": {
    "id": "iWs6ljrIhLus"
   },
   "source": [
    "[Здесь](https://athena.brynmawr.edu/jupyter/hub/dblank/public/Jupyter%20Notebook%20Users%20Manual.ipynb) находится <s>не</s>большая заметка о используемом языке разметки Markdown. Он позволяет:\n",
    "\n",
    "0. Составлять упорядоченные списки\n",
    "1. Выделять *текст* <s>при</s> **необходимости**\n",
    "2. Добавлять [ссылки](http://imgs.xkcd.com/comics/the_universal_label.png)\n",
    "\n",
    "\n",
    "* Составлять неупорядоченные списки\n",
    "\n",
    "Делать вставки с помощью LaTex:\n",
    "    \n",
    "$\n",
    "\\left\\{\n",
    "\\begin{array}{ll}\n",
    "x = 16 \\sin^3 (t) \\\\ \n",
    "y = 13 \\cos (t) - 5 \\cos (2t) - 2 \\cos (3t) - \\cos (4t) \\\\\n",
    "t \\in [0, 2 \\pi]\n",
    "\\end{array}\n",
    "\\right.$"
   ]
  },
  {
   "cell_type": "markdown",
   "metadata": {
    "id": "6fmTGcXOhLus"
   },
   "source": [
    "А ещё можно вставлять картинки, или гифки, или что захотите:\n",
    "\n",
    "<img src=\"https://media1.tenor.com/images/9b8fbe9214504bcf6c60fe4e4f7e114e/tenor.gif?itemid=5416416\" style=\"width: 400px\">"
   ]
  },
  {
   "cell_type": "markdown",
   "metadata": {
    "id": "J_toGw7DhLut"
   },
   "source": [
    "### Google Colab"
   ]
  },
  {
   "cell_type": "markdown",
   "metadata": {
    "id": "jpkbCVjGhLut"
   },
   "source": [
    "Что за колаб? \n",
    "\n",
    "**Google Colab (Colaboratory)** это **Jupyter Notebook + Cloud + Google Drive.**\n",
    "\n",
    "Компания Google предоставляет возможность бесплатно запускать ноутбуки (предварительно загрузив их на свой гугл-диск) прямо в облаке. При этом вам не требуется установка никаких пакетов на свою машину, а работать можно прямиком из браузера. Вот ссылка:"
   ]
  },
  {
   "cell_type": "markdown",
   "metadata": {
    "id": "06MQog3yhLut"
   },
   "source": [
    "https://colab.research.google.com"
   ]
  },
  {
   "cell_type": "markdown",
   "metadata": {
    "id": "5_hfWXKPhLut"
   },
   "source": [
    "При использовании вы увидете много сходств с jupyter ноутбуком. Одним из преимуществ является доступность GPU, соответствующую опцию можно активировать в настройках сервиса. При желании вы сможете найти в интернете много туториалов по использованию или разобраться самостоятельно =)"
   ]
  },
  {
   "cell_type": "markdown",
   "metadata": {
    "id": "sUe2vnFGhLuu"
   },
   "source": [
    "## 1. Табличные данные и Pandas"
   ]
  },
  {
   "cell_type": "markdown",
   "metadata": {
    "id": "DJQzjjqJhLuu"
   },
   "source": [
    "Pandas — удобная библиотека для работы с табличными данными в Python, если данных не слишком много и они помещаются в оперативную память вашего компьютера. Несмотря на неэффективность реализации и некоторые проблемы, библиотека стала стандартом в анализе данных.\n",
    "\n",
    "Основной объект в pandas — это DataFrame, представляющий собой таблицу с именованными колонками различных типов, индексом (может быть многоуровневым). DataFrame можно создавать, считывая таблицу из файла или задавая вручную из других объектов.\n",
    "\n",
    "В этой части потребуется выполнить несколько небольших заданий. Можно пойти двумя путями: сначала изучить материалы, а потом приступить к заданиям, или же разбираться \"по ходу\". Выбирайте сами.\n",
    "\n",
    "Материалы:\n",
    "1. [Pandas за 10 минут из официального руководства](http://pandas.pydata.org/pandas-docs/stable/10min.html)\n",
    "2. [Документация](http://pandas.pydata.org/pandas-docs/stable/index.html) (стоит обращаться, если не понятно, как вызывать конкретный метод)\n",
    "3. [Примеры использования функционала](http://nbviewer.jupyter.org/github/justmarkham/pandas-videos/blob/master/pandas.ipynb)\n",
    "\n",
    "Многие из заданий можно выполнить несколькими способами. Не существуют единственно верного, но попробуйте максимально задействовать арсенал pandas и ориентируйтесь на простоту и понятность вашего кода. Мы не будем подсказывать, что нужно использовать для решения конкретной задачи, попробуйте находить необходимый функционал сами (название метода чаще всего очевидно). В помощь вам документация, поиск и stackoverflow."
   ]
  },
  {
   "cell_type": "code",
   "execution_count": 1,
   "metadata": {
    "id": "26zbFY25hLuv",
    "outputId": "404c22c6-2696-48ab-c71e-7a3ffbc36b18"
   },
   "outputs": [
    {
     "name": "stdout",
     "output_type": "stream",
     "text": [
      "Populating the interactive namespace from numpy and matplotlib\n"
     ]
    }
   ],
   "source": [
    "%pylab inline\n",
    "import pandas as pd"
   ]
  },
  {
   "cell_type": "markdown",
   "metadata": {},
   "source": [
    "<span style=\"color:red\">Перед выполнением задания необходимо ознакомиться с первым семинаром (seminars/sem01-pandas.ipynb) </span>.\n",
    "\n",
    "Это поможет вам получить общее понимание происходяшего и успешнее справиться с заданием.\n",
    "\n",
    "Также успешному выполнению способствует внимательное чтение текста задания от начала до конца.\n",
    "\n",
    "Удачи!"
   ]
  },
  {
   "cell_type": "markdown",
   "metadata": {
    "id": "dneJl9TyhLuv"
   },
   "source": [
    "Скачаем подготовленные на семинаре данные:"
   ]
  },
  {
   "cell_type": "code",
   "execution_count": 3,
   "metadata": {
    "id": "rj_I0RslhLuw"
   },
   "outputs": [],
   "source": [
    "# Я пользователь Windows\n",
    "#!wget  -O 'end_seminar.xlsx' -q 'https://www.dropbox.com/s/f4rm8sjc3v99p0m/_end_seminar.xlsx?dl=0'"
   ]
  },
  {
   "cell_type": "markdown",
   "metadata": {
    "id": "5hp7bn_ThLuw"
   },
   "source": [
    "Для пользователей Windows: скачайте файл самостоятельно и поместите его в папку с тетрадкой. Или попробуйте один из следующих вариантов:"
   ]
  },
  {
   "cell_type": "code",
   "execution_count": 7,
   "metadata": {
    "id": "4h4_BaX8hLuw"
   },
   "outputs": [],
   "source": [
    "#!powershell iwr -outf 'end_seminar.xlsx' 'https://www.dropbox.com/s/f4rm8sjc3v99p0m/_end_seminar.xlsx?dl=0'"
   ]
  },
  {
   "cell_type": "code",
   "execution_count": 8,
   "metadata": {
    "id": "7bHroLGChLuw"
   },
   "outputs": [
    {
     "name": "stdout",
     "output_type": "stream",
     "text": [
      "Collecting wget\n",
      "  Downloading wget-3.2.zip (10 kB)\n",
      "Building wheels for collected packages: wget\n",
      "  Building wheel for wget (setup.py): started\n",
      "  Building wheel for wget (setup.py): finished with status 'done'\n",
      "  Created wheel for wget: filename=wget-3.2-py3-none-any.whl size=9686 sha256=8d6f277a7cd142bbcf1d7441ea2b2aa221648fae51f0a9fd43de19b43b8e1509\n",
      "  Stored in directory: c:\\users\\kirill-korolev\\appdata\\local\\pip\\cache\\wheels\\bd\\a8\\c3\\3cf2c14a1837a4e04bd98631724e81f33f462d86a1d895fae0\n",
      "Successfully built wget\n",
      "Installing collected packages: wget\n",
      "Successfully installed wget-3.2\n",
      "100% [..............................................................................] 50735 / 50735"
     ]
    },
    {
     "data": {
      "text/plain": [
       "'end_seminar (1).xlsx'"
      ]
     },
     "execution_count": 8,
     "metadata": {},
     "output_type": "execute_result"
    }
   ],
   "source": [
    "!pip install wget\n",
    "import wget \n",
    "wget.download('https://dropbox.com/s/f4rm8sjc3v99p0m/_end_seminar.xlsx?dl=1', 'end_seminar.xlsx')"
   ]
  },
  {
   "cell_type": "markdown",
   "metadata": {
    "id": "VFs_6IythLux"
   },
   "source": [
    "##### В первой части задания (до раздела \"Распределение студентов по курсам\") использование циклов запрещается и повлечет за собой снижение оценки. Использование <code>vectorize</code> и  <code>apply</code>, <code>apply_along_axis</code> крайне нежелательно."
   ]
  },
  {
   "cell_type": "markdown",
   "metadata": {
    "id": "shFkfJkohLux"
   },
   "source": [
    "Для каждой задачи из этого раздела вы должны написать код для получения ответа, а также дать текстовый ответ, если он предполагается.\n",
    "\n",
    "На некоторые вопросы вы можете получить путём пристального взгляда на таблицу, но это не будет засчитываться. Вы в любом случае должны получить ответ с помощью кода."
   ]
  },
  {
   "cell_type": "markdown",
   "metadata": {
    "id": "gDD85M7bhLux"
   },
   "source": [
    "#### 1. [0 баллов] Откройте файл с таблицей (не забудьте про её формат). Выведите последние 10 строк.\n",
    "\n",
    "Посмотрите на данные и скажите, что они из себя представляют, сколько в таблице строк, какие столбцы? (на это не надо отвечать, просто подумайте об этом)"
   ]
  },
  {
   "cell_type": "code",
   "execution_count": 503,
   "metadata": {
    "id": "PKulur3LhLuy"
   },
   "outputs": [
    {
     "data": {
      "text/html": [
       "<div>\n",
       "<style scoped>\n",
       "    .dataframe tbody tr th:only-of-type {\n",
       "        vertical-align: middle;\n",
       "    }\n",
       "\n",
       "    .dataframe tbody tr th {\n",
       "        vertical-align: top;\n",
       "    }\n",
       "\n",
       "    .dataframe thead th {\n",
       "        text-align: right;\n",
       "    }\n",
       "</style>\n",
       "<table border=\"1\" class=\"dataframe\">\n",
       "  <thead>\n",
       "    <tr style=\"text-align: right;\">\n",
       "      <th></th>\n",
       "      <th>timestamp</th>\n",
       "      <th>id</th>\n",
       "      <th>rating</th>\n",
       "      <th>18_group</th>\n",
       "      <th>is_mi</th>\n",
       "      <th>fall_1</th>\n",
       "      <th>fall_2</th>\n",
       "      <th>fall_3</th>\n",
       "      <th>spring_1</th>\n",
       "      <th>spring_2</th>\n",
       "      <th>spring_3</th>\n",
       "      <th>is_first_time</th>\n",
       "      <th>percentile</th>\n",
       "      <th>17_group</th>\n",
       "      <th>blended</th>\n",
       "      <th>is_ml_student</th>\n",
       "    </tr>\n",
       "  </thead>\n",
       "  <tbody>\n",
       "    <tr>\n",
       "      <th>351</th>\n",
       "      <td>2020-05-18 23:58:33.903</td>\n",
       "      <td>8fe79f84f36e3a5d2d6745621321302c</td>\n",
       "      <td>1016</td>\n",
       "      <td>NaN</td>\n",
       "      <td>NaN</td>\n",
       "      <td>Безопасность компьютерных систем</td>\n",
       "      <td>Высокопроизводительные вычисления</td>\n",
       "      <td>Сбор и обработка данных с помощью краудсорсинга</td>\n",
       "      <td>Конфликты и кооперация</td>\n",
       "      <td>Проектирование и разработка высоконагруженных ...</td>\n",
       "      <td>Символьные вычисления</td>\n",
       "      <td>Да</td>\n",
       "      <td>0.942029</td>\n",
       "      <td>174.0</td>\n",
       "      <td>DevOps</td>\n",
       "      <td>NaN</td>\n",
       "    </tr>\n",
       "    <tr>\n",
       "      <th>352</th>\n",
       "      <td>2020-05-18 23:59:20.831</td>\n",
       "      <td>f93afd8e92c336b471aa3bbbc579aefe</td>\n",
       "      <td>1298</td>\n",
       "      <td>NaN</td>\n",
       "      <td>NaN</td>\n",
       "      <td>Высокопроизводительные вычисления</td>\n",
       "      <td>Сбор и обработка данных с помощью краудсорсинга</td>\n",
       "      <td>Statistical Learning Theory</td>\n",
       "      <td>Методы сжатия и передачи медиаданных</td>\n",
       "      <td>Проектирование и разработка высоконагруженных ...</td>\n",
       "      <td>Конфликты и кооперация</td>\n",
       "      <td>Да</td>\n",
       "      <td>0.057971</td>\n",
       "      <td>175.0</td>\n",
       "      <td>DevOps</td>\n",
       "      <td>NaN</td>\n",
       "    </tr>\n",
       "    <tr>\n",
       "      <th>353</th>\n",
       "      <td>2020-05-18 23:59:28.998</td>\n",
       "      <td>9963fc00d9405a35b894cc04a7e19855</td>\n",
       "      <td>1135</td>\n",
       "      <td>NaN</td>\n",
       "      <td>NaN</td>\n",
       "      <td>Безопасность компьютерных систем</td>\n",
       "      <td>Высокопроизводительные вычисления</td>\n",
       "      <td>Безопасность компьютерных систем</td>\n",
       "      <td>Проектирование и разработка высоконагруженных ...</td>\n",
       "      <td>Методы сжатия и передачи медиаданных</td>\n",
       "      <td>Символьные вычисления</td>\n",
       "      <td>Да</td>\n",
       "      <td>0.572464</td>\n",
       "      <td>175.0</td>\n",
       "      <td>DevOps</td>\n",
       "      <td>NaN</td>\n",
       "    </tr>\n",
       "    <tr>\n",
       "      <th>354</th>\n",
       "      <td>2020-05-19 08:55:39.509</td>\n",
       "      <td>98c5a2548d93f26bd4195466e93178b3</td>\n",
       "      <td>1035</td>\n",
       "      <td>NaN</td>\n",
       "      <td>NaN</td>\n",
       "      <td>Байесовские методы машинного обучения</td>\n",
       "      <td>Глубинное обучение в обработке звука</td>\n",
       "      <td>Statistical Learning Theory</td>\n",
       "      <td>Обучение с подкреплением</td>\n",
       "      <td>Генеративные модели в машинном обучении</td>\n",
       "      <td>Методы сжатия и передачи медиаданных</td>\n",
       "      <td>Нет</td>\n",
       "      <td>0.905797</td>\n",
       "      <td>171.0</td>\n",
       "      <td>DevOps</td>\n",
       "      <td>NaN</td>\n",
       "    </tr>\n",
       "    <tr>\n",
       "      <th>355</th>\n",
       "      <td>2020-05-19 18:58:06.283</td>\n",
       "      <td>ba298cbd9be59b84bab33325e956f27e</td>\n",
       "      <td>1155</td>\n",
       "      <td>NaN</td>\n",
       "      <td>NaN</td>\n",
       "      <td>Сбор и обработка данных с помощью краудсорсинга</td>\n",
       "      <td>Байесовские методы машинного обучения</td>\n",
       "      <td>Анализ неструктурированных данных</td>\n",
       "      <td>Конфликты и кооперация</td>\n",
       "      <td>Обучение с подкреплением</td>\n",
       "      <td>Компьютерное зрение</td>\n",
       "      <td>Да</td>\n",
       "      <td>0.507246</td>\n",
       "      <td>171.0</td>\n",
       "      <td>Соревновательный анализ данных</td>\n",
       "      <td>NaN</td>\n",
       "    </tr>\n",
       "    <tr>\n",
       "      <th>356</th>\n",
       "      <td>2020-05-19 19:04:17.873</td>\n",
       "      <td>c5870b37ee3f672e4259dfb2fc02ed8f</td>\n",
       "      <td>1029</td>\n",
       "      <td>NaN</td>\n",
       "      <td>NaN</td>\n",
       "      <td>Statistical Learning Theory</td>\n",
       "      <td>Анализ неструктурированных данных</td>\n",
       "      <td>Сбор и обработка данных с помощью краудсорсинга</td>\n",
       "      <td>Обучение с подкреплением</td>\n",
       "      <td>Конфликты и кооперация</td>\n",
       "      <td>Компьютерное зрение</td>\n",
       "      <td>Да</td>\n",
       "      <td>0.920290</td>\n",
       "      <td>174.0</td>\n",
       "      <td>DevOps</td>\n",
       "      <td>NaN</td>\n",
       "    </tr>\n",
       "    <tr>\n",
       "      <th>357</th>\n",
       "      <td>2020-05-19 20:19:25.815</td>\n",
       "      <td>f44aea1095f9f5b8e2f5f0ed2b17891b</td>\n",
       "      <td>1060</td>\n",
       "      <td>NaN</td>\n",
       "      <td>NaN</td>\n",
       "      <td>Анализ неструктурированных данных</td>\n",
       "      <td>Высокопроизводительные вычисления</td>\n",
       "      <td>Моделирование временных рядов</td>\n",
       "      <td>Конфликты и кооперация</td>\n",
       "      <td>Обучение с подкреплением</td>\n",
       "      <td>Численные методы</td>\n",
       "      <td>Да</td>\n",
       "      <td>0.840580</td>\n",
       "      <td>174.0</td>\n",
       "      <td>DevOps</td>\n",
       "      <td>NaN</td>\n",
       "    </tr>\n",
       "    <tr>\n",
       "      <th>358</th>\n",
       "      <td>2020-05-20 11:54:38.318</td>\n",
       "      <td>d7118b44c7e8fdbbaaca226d2da6fef1</td>\n",
       "      <td>1111</td>\n",
       "      <td>NaN</td>\n",
       "      <td>NaN</td>\n",
       "      <td>Сбор и обработка данных с помощью краудсорсинга</td>\n",
       "      <td>Statistical Learning Theory</td>\n",
       "      <td>Анализ неструктурированных данных</td>\n",
       "      <td>Проектирование и разработка высоконагруженных ...</td>\n",
       "      <td>Методы сжатия и передачи медиаданных</td>\n",
       "      <td>Численные методы</td>\n",
       "      <td>Да</td>\n",
       "      <td>0.652174</td>\n",
       "      <td>173.0</td>\n",
       "      <td>Соревновательный анализ данных</td>\n",
       "      <td>NaN</td>\n",
       "    </tr>\n",
       "    <tr>\n",
       "      <th>359</th>\n",
       "      <td>2020-05-23 21:16:40.916</td>\n",
       "      <td>79d14db48e4737af731960ae212d5134</td>\n",
       "      <td>966</td>\n",
       "      <td>NaN</td>\n",
       "      <td>NaN</td>\n",
       "      <td>Безопасность компьютерных систем</td>\n",
       "      <td>Принятие решений в условиях риска и неопределё...</td>\n",
       "      <td>Анализ неструктурированных данных</td>\n",
       "      <td>Проектирование и разработка высоконагруженных ...</td>\n",
       "      <td>Методы сжатия и передачи медиаданных</td>\n",
       "      <td>Компьютерное зрение</td>\n",
       "      <td>Да</td>\n",
       "      <td>0.985507</td>\n",
       "      <td>172.0</td>\n",
       "      <td>DevOps</td>\n",
       "      <td>NaN</td>\n",
       "    </tr>\n",
       "    <tr>\n",
       "      <th>360</th>\n",
       "      <td>2020-05-23 21:16:40.916</td>\n",
       "      <td>f2d210ace25a841e1e58036b257d5d47</td>\n",
       "      <td>1195</td>\n",
       "      <td>NaN</td>\n",
       "      <td>NaN</td>\n",
       "      <td>Анализ неструктурированных данных</td>\n",
       "      <td>Моделирование временных рядов</td>\n",
       "      <td>Высокопроизводительные вычисления</td>\n",
       "      <td>Обучение с подкреплением</td>\n",
       "      <td>Компьютерное зрение</td>\n",
       "      <td>Методы сжатия и передачи медиаданных</td>\n",
       "      <td>NaN</td>\n",
       "      <td>0.369565</td>\n",
       "      <td>176.0</td>\n",
       "      <td>Соревновательный анализ данных</td>\n",
       "      <td>NaN</td>\n",
       "    </tr>\n",
       "  </tbody>\n",
       "</table>\n",
       "</div>"
      ],
      "text/plain": [
       "                  timestamp                                id  rating  \\\n",
       "351 2020-05-18 23:58:33.903  8fe79f84f36e3a5d2d6745621321302c    1016   \n",
       "352 2020-05-18 23:59:20.831  f93afd8e92c336b471aa3bbbc579aefe    1298   \n",
       "353 2020-05-18 23:59:28.998  9963fc00d9405a35b894cc04a7e19855    1135   \n",
       "354 2020-05-19 08:55:39.509  98c5a2548d93f26bd4195466e93178b3    1035   \n",
       "355 2020-05-19 18:58:06.283  ba298cbd9be59b84bab33325e956f27e    1155   \n",
       "356 2020-05-19 19:04:17.873  c5870b37ee3f672e4259dfb2fc02ed8f    1029   \n",
       "357 2020-05-19 20:19:25.815  f44aea1095f9f5b8e2f5f0ed2b17891b    1060   \n",
       "358 2020-05-20 11:54:38.318  d7118b44c7e8fdbbaaca226d2da6fef1    1111   \n",
       "359 2020-05-23 21:16:40.916  79d14db48e4737af731960ae212d5134     966   \n",
       "360 2020-05-23 21:16:40.916  f2d210ace25a841e1e58036b257d5d47    1195   \n",
       "\n",
       "     18_group  is_mi                                           fall_1  \\\n",
       "351       NaN    NaN                 Безопасность компьютерных систем   \n",
       "352       NaN    NaN                Высокопроизводительные вычисления   \n",
       "353       NaN    NaN                 Безопасность компьютерных систем   \n",
       "354       NaN    NaN            Байесовские методы машинного обучения   \n",
       "355       NaN    NaN  Сбор и обработка данных с помощью краудсорсинга   \n",
       "356       NaN    NaN                      Statistical Learning Theory   \n",
       "357       NaN    NaN                Анализ неструктурированных данных   \n",
       "358       NaN    NaN  Сбор и обработка данных с помощью краудсорсинга   \n",
       "359       NaN    NaN                 Безопасность компьютерных систем   \n",
       "360       NaN    NaN                Анализ неструктурированных данных   \n",
       "\n",
       "                                                fall_2  \\\n",
       "351                  Высокопроизводительные вычисления   \n",
       "352    Сбор и обработка данных с помощью краудсорсинга   \n",
       "353                  Высокопроизводительные вычисления   \n",
       "354               Глубинное обучение в обработке звука   \n",
       "355              Байесовские методы машинного обучения   \n",
       "356                  Анализ неструктурированных данных   \n",
       "357                  Высокопроизводительные вычисления   \n",
       "358                        Statistical Learning Theory   \n",
       "359  Принятие решений в условиях риска и неопределё...   \n",
       "360                      Моделирование временных рядов   \n",
       "\n",
       "                                              fall_3  \\\n",
       "351  Сбор и обработка данных с помощью краудсорсинга   \n",
       "352                      Statistical Learning Theory   \n",
       "353                 Безопасность компьютерных систем   \n",
       "354                      Statistical Learning Theory   \n",
       "355                Анализ неструктурированных данных   \n",
       "356  Сбор и обработка данных с помощью краудсорсинга   \n",
       "357                    Моделирование временных рядов   \n",
       "358                Анализ неструктурированных данных   \n",
       "359                Анализ неструктурированных данных   \n",
       "360                Высокопроизводительные вычисления   \n",
       "\n",
       "                                              spring_1  \\\n",
       "351                             Конфликты и кооперация   \n",
       "352               Методы сжатия и передачи медиаданных   \n",
       "353  Проектирование и разработка высоконагруженных ...   \n",
       "354                           Обучение с подкреплением   \n",
       "355                             Конфликты и кооперация   \n",
       "356                           Обучение с подкреплением   \n",
       "357                             Конфликты и кооперация   \n",
       "358  Проектирование и разработка высоконагруженных ...   \n",
       "359  Проектирование и разработка высоконагруженных ...   \n",
       "360                           Обучение с подкреплением   \n",
       "\n",
       "                                              spring_2  \\\n",
       "351  Проектирование и разработка высоконагруженных ...   \n",
       "352  Проектирование и разработка высоконагруженных ...   \n",
       "353               Методы сжатия и передачи медиаданных   \n",
       "354            Генеративные модели в машинном обучении   \n",
       "355                           Обучение с подкреплением   \n",
       "356                             Конфликты и кооперация   \n",
       "357                           Обучение с подкреплением   \n",
       "358               Методы сжатия и передачи медиаданных   \n",
       "359               Методы сжатия и передачи медиаданных   \n",
       "360                                Компьютерное зрение   \n",
       "\n",
       "                                 spring_3 is_first_time  percentile  17_group  \\\n",
       "351                 Символьные вычисления            Да    0.942029     174.0   \n",
       "352                Конфликты и кооперация            Да    0.057971     175.0   \n",
       "353                 Символьные вычисления            Да    0.572464     175.0   \n",
       "354  Методы сжатия и передачи медиаданных           Нет    0.905797     171.0   \n",
       "355                   Компьютерное зрение            Да    0.507246     171.0   \n",
       "356                   Компьютерное зрение            Да    0.920290     174.0   \n",
       "357                      Численные методы            Да    0.840580     174.0   \n",
       "358                      Численные методы            Да    0.652174     173.0   \n",
       "359                   Компьютерное зрение            Да    0.985507     172.0   \n",
       "360  Методы сжатия и передачи медиаданных           NaN    0.369565     176.0   \n",
       "\n",
       "                            blended  is_ml_student  \n",
       "351                          DevOps            NaN  \n",
       "352                          DevOps            NaN  \n",
       "353                          DevOps            NaN  \n",
       "354                          DevOps            NaN  \n",
       "355  Соревновательный анализ данных            NaN  \n",
       "356                          DevOps            NaN  \n",
       "357                          DevOps            NaN  \n",
       "358  Соревновательный анализ данных            NaN  \n",
       "359                          DevOps            NaN  \n",
       "360  Соревновательный анализ данных            NaN  "
      ]
     },
     "execution_count": 503,
     "metadata": {},
     "output_type": "execute_result"
    }
   ],
   "source": [
    "# your code\n",
    "df = pd.read_excel('end_seminar.xlsx')\n",
    "\n",
    "df.tail(10)"
   ]
  },
  {
   "cell_type": "code",
   "execution_count": 504,
   "metadata": {},
   "outputs": [
    {
     "data": {
      "text/plain": [
       "(361, 16)"
      ]
     },
     "execution_count": 504,
     "metadata": {},
     "output_type": "execute_result"
    }
   ],
   "source": [
    "df.shape"
   ]
  },
  {
   "cell_type": "code",
   "execution_count": 505,
   "metadata": {},
   "outputs": [
    {
     "data": {
      "text/plain": [
       "timestamp        datetime64[ns]\n",
       "id                       object\n",
       "rating                    int64\n",
       "18_group                float64\n",
       "is_mi                   float64\n",
       "fall_1                   object\n",
       "fall_2                   object\n",
       "fall_3                   object\n",
       "spring_1                 object\n",
       "spring_2                 object\n",
       "spring_3                 object\n",
       "is_first_time            object\n",
       "percentile              float64\n",
       "17_group                float64\n",
       "blended                  object\n",
       "is_ml_student           float64\n",
       "dtype: object"
      ]
     },
     "execution_count": 505,
     "metadata": {},
     "output_type": "execute_result"
    }
   ],
   "source": [
    "df.dtypes"
   ]
  },
  {
   "cell_type": "markdown",
   "metadata": {
    "id": "jPiMwyqHhLuy"
   },
   "source": [
    "#### 2. [0.5 балла] Есть ли в данных пропуски? В каких колонках? Сколько их в каждой из этих колонок?"
   ]
  },
  {
   "cell_type": "markdown",
   "metadata": {},
   "source": [
    "Количество пропусков по колонкам:"
   ]
  },
  {
   "cell_type": "code",
   "execution_count": 506,
   "metadata": {
    "id": "edY1RrSOhLuy"
   },
   "outputs": [
    {
     "data": {
      "text/plain": [
       "timestamp          0\n",
       "id                 0\n",
       "rating             0\n",
       "18_group         138\n",
       "is_mi            343\n",
       "fall_1             0\n",
       "fall_2             0\n",
       "fall_3             0\n",
       "spring_1           0\n",
       "spring_2           0\n",
       "spring_3           0\n",
       "is_first_time      2\n",
       "percentile         0\n",
       "17_group         223\n",
       "blended          223\n",
       "is_ml_student    304\n",
       "dtype: int64"
      ]
     },
     "execution_count": 506,
     "metadata": {},
     "output_type": "execute_result"
    }
   ],
   "source": [
    "# your code\n",
    "df.isna().sum(axis=0)"
   ]
  },
  {
   "cell_type": "markdown",
   "metadata": {
    "id": "B5ORhP2uhLuz"
   },
   "source": [
    "Заполните пропуски пустой строкой для строковых колонок и нулём для числовых (постарайтесь избежать перечисления названий всех столбцов)."
   ]
  },
  {
   "cell_type": "code",
   "execution_count": 507,
   "metadata": {},
   "outputs": [
    {
     "data": {
      "text/html": [
       "<div>\n",
       "<style scoped>\n",
       "    .dataframe tbody tr th:only-of-type {\n",
       "        vertical-align: middle;\n",
       "    }\n",
       "\n",
       "    .dataframe tbody tr th {\n",
       "        vertical-align: top;\n",
       "    }\n",
       "\n",
       "    .dataframe thead th {\n",
       "        text-align: right;\n",
       "    }\n",
       "</style>\n",
       "<table border=\"1\" class=\"dataframe\">\n",
       "  <thead>\n",
       "    <tr style=\"text-align: right;\">\n",
       "      <th></th>\n",
       "      <th>Количество пропущенных значений</th>\n",
       "      <th>Тип столбца</th>\n",
       "    </tr>\n",
       "  </thead>\n",
       "  <tbody>\n",
       "    <tr>\n",
       "      <th>timestamp</th>\n",
       "      <td>0</td>\n",
       "      <td>datetime64[ns]</td>\n",
       "    </tr>\n",
       "    <tr>\n",
       "      <th>id</th>\n",
       "      <td>0</td>\n",
       "      <td>object</td>\n",
       "    </tr>\n",
       "    <tr>\n",
       "      <th>rating</th>\n",
       "      <td>0</td>\n",
       "      <td>int64</td>\n",
       "    </tr>\n",
       "    <tr>\n",
       "      <th>18_group</th>\n",
       "      <td>138</td>\n",
       "      <td>float64</td>\n",
       "    </tr>\n",
       "    <tr>\n",
       "      <th>is_mi</th>\n",
       "      <td>343</td>\n",
       "      <td>float64</td>\n",
       "    </tr>\n",
       "    <tr>\n",
       "      <th>fall_1</th>\n",
       "      <td>0</td>\n",
       "      <td>object</td>\n",
       "    </tr>\n",
       "    <tr>\n",
       "      <th>fall_2</th>\n",
       "      <td>0</td>\n",
       "      <td>object</td>\n",
       "    </tr>\n",
       "    <tr>\n",
       "      <th>fall_3</th>\n",
       "      <td>0</td>\n",
       "      <td>object</td>\n",
       "    </tr>\n",
       "    <tr>\n",
       "      <th>spring_1</th>\n",
       "      <td>0</td>\n",
       "      <td>object</td>\n",
       "    </tr>\n",
       "    <tr>\n",
       "      <th>spring_2</th>\n",
       "      <td>0</td>\n",
       "      <td>object</td>\n",
       "    </tr>\n",
       "    <tr>\n",
       "      <th>spring_3</th>\n",
       "      <td>0</td>\n",
       "      <td>object</td>\n",
       "    </tr>\n",
       "    <tr>\n",
       "      <th>is_first_time</th>\n",
       "      <td>2</td>\n",
       "      <td>object</td>\n",
       "    </tr>\n",
       "    <tr>\n",
       "      <th>percentile</th>\n",
       "      <td>0</td>\n",
       "      <td>float64</td>\n",
       "    </tr>\n",
       "    <tr>\n",
       "      <th>17_group</th>\n",
       "      <td>223</td>\n",
       "      <td>float64</td>\n",
       "    </tr>\n",
       "    <tr>\n",
       "      <th>blended</th>\n",
       "      <td>223</td>\n",
       "      <td>object</td>\n",
       "    </tr>\n",
       "    <tr>\n",
       "      <th>is_ml_student</th>\n",
       "      <td>304</td>\n",
       "      <td>float64</td>\n",
       "    </tr>\n",
       "  </tbody>\n",
       "</table>\n",
       "</div>"
      ],
      "text/plain": [
       "               Количество пропущенных значений     Тип столбца\n",
       "timestamp                                    0  datetime64[ns]\n",
       "id                                           0          object\n",
       "rating                                       0           int64\n",
       "18_group                                   138         float64\n",
       "is_mi                                      343         float64\n",
       "fall_1                                       0          object\n",
       "fall_2                                       0          object\n",
       "fall_3                                       0          object\n",
       "spring_1                                     0          object\n",
       "spring_2                                     0          object\n",
       "spring_3                                     0          object\n",
       "is_first_time                                2          object\n",
       "percentile                                   0         float64\n",
       "17_group                                   223         float64\n",
       "blended                                    223          object\n",
       "is_ml_student                              304         float64"
      ]
     },
     "execution_count": 507,
     "metadata": {},
     "output_type": "execute_result"
    }
   ],
   "source": [
    "pd.concat((df.isna().sum(axis=0), df.dtypes), axis=1).rename(columns={0: 'Количество пропущенных значений', 1: 'Тип столбца'})"
   ]
  },
  {
   "cell_type": "code",
   "execution_count": 508,
   "metadata": {
    "id": "TlF_JJ2ghLuz"
   },
   "outputs": [],
   "source": [
    "# your code\n",
    "df = df.fillna({'is_first_time': '', 'blended': ''}).fillna(0)"
   ]
  },
  {
   "cell_type": "code",
   "execution_count": 509,
   "metadata": {},
   "outputs": [
    {
     "name": "stdout",
     "output_type": "stream",
     "text": [
      "Есть ли повторы теперь? False\n"
     ]
    }
   ],
   "source": [
    "print(f'Есть ли повторы теперь? {df.isna().any().any()}')"
   ]
  },
  {
   "cell_type": "markdown",
   "metadata": {
    "id": "w5ELhkT1hLuz"
   },
   "source": [
    "#### 3. [0.5 балла] Посмотрите повнимательнее на колонку 'is_first_time'. \n",
    "\n",
    "Есть ли в ней ответы \"Нет\"? Сколько их?\n",
    "\n",
    "Если вы найдете повторные обращения студентов, оставьте только самую позднюю версию. В дальнейших заданиях используйте версию данных без повторов.\n",
    "\n",
    "<i>Обращения со значением \"Нет\" в 'is_first_time' могут быть как повторными, так и первичными, поскольку поле заполняли сами студенты.</i>"
   ]
  },
  {
   "cell_type": "code",
   "execution_count": 510,
   "metadata": {
    "id": "VEfiNsyQhLuz"
   },
   "outputs": [
    {
     "data": {
      "text/plain": [
       "Да     308\n",
       "Нет     51\n",
       "         2\n",
       "Name: is_first_time, dtype: int64"
      ]
     },
     "execution_count": 510,
     "metadata": {},
     "output_type": "execute_result"
    }
   ],
   "source": [
    "# your code\n",
    "df['is_first_time'].value_counts()"
   ]
  },
  {
   "cell_type": "code",
   "execution_count": 511,
   "metadata": {},
   "outputs": [
    {
     "name": "stdout",
     "output_type": "stream",
     "text": [
      "Количество уникальных id-шников: 347\n"
     ]
    }
   ],
   "source": [
    "print(f'Количество уникальных id-шников: {df.id.unique().size}')"
   ]
  },
  {
   "cell_type": "code",
   "execution_count": 512,
   "metadata": {},
   "outputs": [
    {
     "data": {
      "text/html": [
       "<div>\n",
       "<style scoped>\n",
       "    .dataframe tbody tr th:only-of-type {\n",
       "        vertical-align: middle;\n",
       "    }\n",
       "\n",
       "    .dataframe tbody tr th {\n",
       "        vertical-align: top;\n",
       "    }\n",
       "\n",
       "    .dataframe thead th {\n",
       "        text-align: right;\n",
       "    }\n",
       "</style>\n",
       "<table border=\"1\" class=\"dataframe\">\n",
       "  <thead>\n",
       "    <tr style=\"text-align: right;\">\n",
       "      <th></th>\n",
       "      <th>id</th>\n",
       "      <th>timestamp</th>\n",
       "      <th>rating</th>\n",
       "      <th>18_group</th>\n",
       "      <th>is_mi</th>\n",
       "      <th>fall_1</th>\n",
       "      <th>fall_2</th>\n",
       "      <th>fall_3</th>\n",
       "      <th>spring_1</th>\n",
       "      <th>spring_2</th>\n",
       "      <th>spring_3</th>\n",
       "      <th>is_first_time</th>\n",
       "      <th>percentile</th>\n",
       "      <th>17_group</th>\n",
       "      <th>blended</th>\n",
       "      <th>is_ml_student</th>\n",
       "    </tr>\n",
       "  </thead>\n",
       "  <tbody>\n",
       "    <tr>\n",
       "      <th>0</th>\n",
       "      <td>00b40fe7dbfd23e5daba765244509415</td>\n",
       "      <td>2020-05-18 22:08:11.668</td>\n",
       "      <td>542</td>\n",
       "      <td>187.0</td>\n",
       "      <td>0.0</td>\n",
       "      <td>Безопасность компьютерных систем</td>\n",
       "      <td>Язык SQL</td>\n",
       "      <td>Матричные вычисления</td>\n",
       "      <td>Промышленное программирование на языке Java</td>\n",
       "      <td>Компьютерные сети</td>\n",
       "      <td>Анализ данных в бизнесе</td>\n",
       "      <td>Да</td>\n",
       "      <td>0.896861</td>\n",
       "      <td>0.0</td>\n",
       "      <td></td>\n",
       "      <td>0.0</td>\n",
       "    </tr>\n",
       "    <tr>\n",
       "      <th>1</th>\n",
       "      <td>014b72217e20370dab7acc48b20c47be</td>\n",
       "      <td>2020-05-18 16:47:43.131</td>\n",
       "      <td>543</td>\n",
       "      <td>186.0</td>\n",
       "      <td>0.0</td>\n",
       "      <td>Сбор и обработка данных с помощью краудсорсинга</td>\n",
       "      <td>Statistical Learning Theory</td>\n",
       "      <td>Матричные вычисления</td>\n",
       "      <td>Системы баз данных</td>\n",
       "      <td>Машинное обучение 2</td>\n",
       "      <td>Дискретная оптимизация</td>\n",
       "      <td>Да</td>\n",
       "      <td>0.892377</td>\n",
       "      <td>0.0</td>\n",
       "      <td></td>\n",
       "      <td>0.0</td>\n",
       "    </tr>\n",
       "    <tr>\n",
       "      <th>2</th>\n",
       "      <td>01b072a0cdb45814fc4ab8ca3e621f0e</td>\n",
       "      <td>2020-05-18 23:01:39.666</td>\n",
       "      <td>1058</td>\n",
       "      <td>0.0</td>\n",
       "      <td>0.0</td>\n",
       "      <td>Анализ неструктурированных данных</td>\n",
       "      <td>Сбор и обработка данных с помощью краудсорсинга</td>\n",
       "      <td>Моделирование временных рядов</td>\n",
       "      <td>Обучение с подкреплением</td>\n",
       "      <td>Компьютерное зрение</td>\n",
       "      <td>Символьные вычисления</td>\n",
       "      <td>Да</td>\n",
       "      <td>0.847826</td>\n",
       "      <td>173.0</td>\n",
       "      <td>Соревновательный анализ данных</td>\n",
       "      <td>0.0</td>\n",
       "    </tr>\n",
       "    <tr>\n",
       "      <th>3</th>\n",
       "      <td>044e038535ae5d2ff037150b77fdc6d1</td>\n",
       "      <td>2020-05-18 17:56:00.688</td>\n",
       "      <td>710</td>\n",
       "      <td>182.0</td>\n",
       "      <td>0.0</td>\n",
       "      <td>Безопасность компьютерных систем</td>\n",
       "      <td>Statistical Learning Theory</td>\n",
       "      <td>Матричные вычисления</td>\n",
       "      <td>Дискретная оптимизация</td>\n",
       "      <td>Промышленное программирование на языке Java</td>\n",
       "      <td>Дополнительные главы прикладной статистики</td>\n",
       "      <td>Да</td>\n",
       "      <td>0.139013</td>\n",
       "      <td>0.0</td>\n",
       "      <td></td>\n",
       "      <td>1.0</td>\n",
       "    </tr>\n",
       "    <tr>\n",
       "      <th>4</th>\n",
       "      <td>04b88fcbe5ba58aa8369c7de5e574de0</td>\n",
       "      <td>2020-05-18 17:00:34.890</td>\n",
       "      <td>719</td>\n",
       "      <td>181.0</td>\n",
       "      <td>0.0</td>\n",
       "      <td>Безопасность компьютерных систем</td>\n",
       "      <td>Моделирование временных рядов</td>\n",
       "      <td>Высокопроизводительные вычисления</td>\n",
       "      <td>Дискретная оптимизация</td>\n",
       "      <td>Компьютерные сети</td>\n",
       "      <td>Промышленное программирование на языке Java</td>\n",
       "      <td>Да</td>\n",
       "      <td>0.121076</td>\n",
       "      <td>0.0</td>\n",
       "      <td></td>\n",
       "      <td>0.0</td>\n",
       "    </tr>\n",
       "  </tbody>\n",
       "</table>\n",
       "</div>"
      ],
      "text/plain": [
       "                                 id               timestamp  rating  18_group  \\\n",
       "0  00b40fe7dbfd23e5daba765244509415 2020-05-18 22:08:11.668     542     187.0   \n",
       "1  014b72217e20370dab7acc48b20c47be 2020-05-18 16:47:43.131     543     186.0   \n",
       "2  01b072a0cdb45814fc4ab8ca3e621f0e 2020-05-18 23:01:39.666    1058       0.0   \n",
       "3  044e038535ae5d2ff037150b77fdc6d1 2020-05-18 17:56:00.688     710     182.0   \n",
       "4  04b88fcbe5ba58aa8369c7de5e574de0 2020-05-18 17:00:34.890     719     181.0   \n",
       "\n",
       "   is_mi                                           fall_1  \\\n",
       "0    0.0                 Безопасность компьютерных систем   \n",
       "1    0.0  Сбор и обработка данных с помощью краудсорсинга   \n",
       "2    0.0                Анализ неструктурированных данных   \n",
       "3    0.0                 Безопасность компьютерных систем   \n",
       "4    0.0                 Безопасность компьютерных систем   \n",
       "\n",
       "                                            fall_2  \\\n",
       "0                                         Язык SQL   \n",
       "1                      Statistical Learning Theory   \n",
       "2  Сбор и обработка данных с помощью краудсорсинга   \n",
       "3                      Statistical Learning Theory   \n",
       "4                    Моделирование временных рядов   \n",
       "\n",
       "                              fall_3  \\\n",
       "0               Матричные вычисления   \n",
       "1               Матричные вычисления   \n",
       "2      Моделирование временных рядов   \n",
       "3               Матричные вычисления   \n",
       "4  Высокопроизводительные вычисления   \n",
       "\n",
       "                                      spring_1  \\\n",
       "0  Промышленное программирование на языке Java   \n",
       "1                           Системы баз данных   \n",
       "2                     Обучение с подкреплением   \n",
       "3                       Дискретная оптимизация   \n",
       "4                       Дискретная оптимизация   \n",
       "\n",
       "                                      spring_2  \\\n",
       "0                            Компьютерные сети   \n",
       "1                          Машинное обучение 2   \n",
       "2                          Компьютерное зрение   \n",
       "3  Промышленное программирование на языке Java   \n",
       "4                            Компьютерные сети   \n",
       "\n",
       "                                      spring_3 is_first_time  percentile  \\\n",
       "0                      Анализ данных в бизнесе            Да    0.896861   \n",
       "1                       Дискретная оптимизация            Да    0.892377   \n",
       "2                        Символьные вычисления            Да    0.847826   \n",
       "3   Дополнительные главы прикладной статистики            Да    0.139013   \n",
       "4  Промышленное программирование на языке Java            Да    0.121076   \n",
       "\n",
       "   17_group                         blended  is_ml_student  \n",
       "0       0.0                                            0.0  \n",
       "1       0.0                                            0.0  \n",
       "2     173.0  Соревновательный анализ данных            0.0  \n",
       "3       0.0                                            1.0  \n",
       "4       0.0                                            0.0  "
      ]
     },
     "execution_count": 512,
     "metadata": {},
     "output_type": "execute_result"
    }
   ],
   "source": [
    "stud_courses = df.sort_values('timestamp').groupby('id', as_index=False).last()\n",
    "\n",
    "stud_courses.head()"
   ]
  },
  {
   "cell_type": "code",
   "execution_count": 513,
   "metadata": {},
   "outputs": [
    {
     "data": {
      "text/plain": [
       "(347, 16)"
      ]
     },
     "execution_count": 513,
     "metadata": {},
     "output_type": "execute_result"
    }
   ],
   "source": [
    "stud_courses.shape"
   ]
  },
  {
   "cell_type": "code",
   "execution_count": 514,
   "metadata": {},
   "outputs": [
    {
     "data": {
      "text/plain": [
       "Да     294\n",
       "Нет     51\n",
       "         2\n",
       "Name: is_first_time, dtype: int64"
      ]
     },
     "execution_count": 514,
     "metadata": {},
     "output_type": "execute_result"
    }
   ],
   "source": [
    "stud_courses['is_first_time'].value_counts()"
   ]
  },
  {
   "cell_type": "markdown",
   "metadata": {},
   "source": [
    "Теперь эта колонка не имеет смысла, можно ее удалить"
   ]
  },
  {
   "cell_type": "code",
   "execution_count": 515,
   "metadata": {},
   "outputs": [
    {
     "data": {
      "text/html": [
       "<div>\n",
       "<style scoped>\n",
       "    .dataframe tbody tr th:only-of-type {\n",
       "        vertical-align: middle;\n",
       "    }\n",
       "\n",
       "    .dataframe tbody tr th {\n",
       "        vertical-align: top;\n",
       "    }\n",
       "\n",
       "    .dataframe thead th {\n",
       "        text-align: right;\n",
       "    }\n",
       "</style>\n",
       "<table border=\"1\" class=\"dataframe\">\n",
       "  <thead>\n",
       "    <tr style=\"text-align: right;\">\n",
       "      <th></th>\n",
       "      <th>id</th>\n",
       "      <th>timestamp</th>\n",
       "      <th>rating</th>\n",
       "      <th>18_group</th>\n",
       "      <th>is_mi</th>\n",
       "      <th>fall_1</th>\n",
       "      <th>fall_2</th>\n",
       "      <th>fall_3</th>\n",
       "      <th>spring_1</th>\n",
       "      <th>spring_2</th>\n",
       "      <th>spring_3</th>\n",
       "      <th>percentile</th>\n",
       "      <th>17_group</th>\n",
       "      <th>blended</th>\n",
       "      <th>is_ml_student</th>\n",
       "    </tr>\n",
       "  </thead>\n",
       "  <tbody>\n",
       "    <tr>\n",
       "      <th>0</th>\n",
       "      <td>00b40fe7dbfd23e5daba765244509415</td>\n",
       "      <td>2020-05-18 22:08:11.668</td>\n",
       "      <td>542</td>\n",
       "      <td>187.0</td>\n",
       "      <td>0.0</td>\n",
       "      <td>Безопасность компьютерных систем</td>\n",
       "      <td>Язык SQL</td>\n",
       "      <td>Матричные вычисления</td>\n",
       "      <td>Промышленное программирование на языке Java</td>\n",
       "      <td>Компьютерные сети</td>\n",
       "      <td>Анализ данных в бизнесе</td>\n",
       "      <td>0.896861</td>\n",
       "      <td>0.0</td>\n",
       "      <td></td>\n",
       "      <td>0.0</td>\n",
       "    </tr>\n",
       "    <tr>\n",
       "      <th>1</th>\n",
       "      <td>014b72217e20370dab7acc48b20c47be</td>\n",
       "      <td>2020-05-18 16:47:43.131</td>\n",
       "      <td>543</td>\n",
       "      <td>186.0</td>\n",
       "      <td>0.0</td>\n",
       "      <td>Сбор и обработка данных с помощью краудсорсинга</td>\n",
       "      <td>Statistical Learning Theory</td>\n",
       "      <td>Матричные вычисления</td>\n",
       "      <td>Системы баз данных</td>\n",
       "      <td>Машинное обучение 2</td>\n",
       "      <td>Дискретная оптимизация</td>\n",
       "      <td>0.892377</td>\n",
       "      <td>0.0</td>\n",
       "      <td></td>\n",
       "      <td>0.0</td>\n",
       "    </tr>\n",
       "    <tr>\n",
       "      <th>2</th>\n",
       "      <td>01b072a0cdb45814fc4ab8ca3e621f0e</td>\n",
       "      <td>2020-05-18 23:01:39.666</td>\n",
       "      <td>1058</td>\n",
       "      <td>0.0</td>\n",
       "      <td>0.0</td>\n",
       "      <td>Анализ неструктурированных данных</td>\n",
       "      <td>Сбор и обработка данных с помощью краудсорсинга</td>\n",
       "      <td>Моделирование временных рядов</td>\n",
       "      <td>Обучение с подкреплением</td>\n",
       "      <td>Компьютерное зрение</td>\n",
       "      <td>Символьные вычисления</td>\n",
       "      <td>0.847826</td>\n",
       "      <td>173.0</td>\n",
       "      <td>Соревновательный анализ данных</td>\n",
       "      <td>0.0</td>\n",
       "    </tr>\n",
       "    <tr>\n",
       "      <th>3</th>\n",
       "      <td>044e038535ae5d2ff037150b77fdc6d1</td>\n",
       "      <td>2020-05-18 17:56:00.688</td>\n",
       "      <td>710</td>\n",
       "      <td>182.0</td>\n",
       "      <td>0.0</td>\n",
       "      <td>Безопасность компьютерных систем</td>\n",
       "      <td>Statistical Learning Theory</td>\n",
       "      <td>Матричные вычисления</td>\n",
       "      <td>Дискретная оптимизация</td>\n",
       "      <td>Промышленное программирование на языке Java</td>\n",
       "      <td>Дополнительные главы прикладной статистики</td>\n",
       "      <td>0.139013</td>\n",
       "      <td>0.0</td>\n",
       "      <td></td>\n",
       "      <td>1.0</td>\n",
       "    </tr>\n",
       "    <tr>\n",
       "      <th>4</th>\n",
       "      <td>04b88fcbe5ba58aa8369c7de5e574de0</td>\n",
       "      <td>2020-05-18 17:00:34.890</td>\n",
       "      <td>719</td>\n",
       "      <td>181.0</td>\n",
       "      <td>0.0</td>\n",
       "      <td>Безопасность компьютерных систем</td>\n",
       "      <td>Моделирование временных рядов</td>\n",
       "      <td>Высокопроизводительные вычисления</td>\n",
       "      <td>Дискретная оптимизация</td>\n",
       "      <td>Компьютерные сети</td>\n",
       "      <td>Промышленное программирование на языке Java</td>\n",
       "      <td>0.121076</td>\n",
       "      <td>0.0</td>\n",
       "      <td></td>\n",
       "      <td>0.0</td>\n",
       "    </tr>\n",
       "  </tbody>\n",
       "</table>\n",
       "</div>"
      ],
      "text/plain": [
       "                                 id               timestamp  rating  18_group  \\\n",
       "0  00b40fe7dbfd23e5daba765244509415 2020-05-18 22:08:11.668     542     187.0   \n",
       "1  014b72217e20370dab7acc48b20c47be 2020-05-18 16:47:43.131     543     186.0   \n",
       "2  01b072a0cdb45814fc4ab8ca3e621f0e 2020-05-18 23:01:39.666    1058       0.0   \n",
       "3  044e038535ae5d2ff037150b77fdc6d1 2020-05-18 17:56:00.688     710     182.0   \n",
       "4  04b88fcbe5ba58aa8369c7de5e574de0 2020-05-18 17:00:34.890     719     181.0   \n",
       "\n",
       "   is_mi                                           fall_1  \\\n",
       "0    0.0                 Безопасность компьютерных систем   \n",
       "1    0.0  Сбор и обработка данных с помощью краудсорсинга   \n",
       "2    0.0                Анализ неструктурированных данных   \n",
       "3    0.0                 Безопасность компьютерных систем   \n",
       "4    0.0                 Безопасность компьютерных систем   \n",
       "\n",
       "                                            fall_2  \\\n",
       "0                                         Язык SQL   \n",
       "1                      Statistical Learning Theory   \n",
       "2  Сбор и обработка данных с помощью краудсорсинга   \n",
       "3                      Statistical Learning Theory   \n",
       "4                    Моделирование временных рядов   \n",
       "\n",
       "                              fall_3  \\\n",
       "0               Матричные вычисления   \n",
       "1               Матричные вычисления   \n",
       "2      Моделирование временных рядов   \n",
       "3               Матричные вычисления   \n",
       "4  Высокопроизводительные вычисления   \n",
       "\n",
       "                                      spring_1  \\\n",
       "0  Промышленное программирование на языке Java   \n",
       "1                           Системы баз данных   \n",
       "2                     Обучение с подкреплением   \n",
       "3                       Дискретная оптимизация   \n",
       "4                       Дискретная оптимизация   \n",
       "\n",
       "                                      spring_2  \\\n",
       "0                            Компьютерные сети   \n",
       "1                          Машинное обучение 2   \n",
       "2                          Компьютерное зрение   \n",
       "3  Промышленное программирование на языке Java   \n",
       "4                            Компьютерные сети   \n",
       "\n",
       "                                      spring_3  percentile  17_group  \\\n",
       "0                      Анализ данных в бизнесе    0.896861       0.0   \n",
       "1                       Дискретная оптимизация    0.892377       0.0   \n",
       "2                        Символьные вычисления    0.847826     173.0   \n",
       "3   Дополнительные главы прикладной статистики    0.139013       0.0   \n",
       "4  Промышленное программирование на языке Java    0.121076       0.0   \n",
       "\n",
       "                          blended  is_ml_student  \n",
       "0                                            0.0  \n",
       "1                                            0.0  \n",
       "2  Соревновательный анализ данных            0.0  \n",
       "3                                            1.0  \n",
       "4                                            0.0  "
      ]
     },
     "execution_count": 515,
     "metadata": {},
     "output_type": "execute_result"
    }
   ],
   "source": [
    "stud_courses = stud_courses.drop('is_first_time', axis=1)\n",
    "\n",
    "stud_courses.head()"
   ]
  },
  {
   "cell_type": "markdown",
   "metadata": {
    "id": "Jhk3tVpVhLuy"
   },
   "source": [
    "#### 4. [0.5 балла] Ответьте на вопросы:\n",
    "1. Сколько было заявок из групп 18-го года набора, а сколько из групп 17-го года?\n",
    "2. Есть ли студенты с равными перцентилями (среди объединенных данных, ведь конкурс на каждый курс общий)?"
   ]
  },
  {
   "cell_type": "markdown",
   "metadata": {},
   "source": [
    "Проверим нет ли нет смешных ситуаций, когда указана группа и 17-го и 18-го годов"
   ]
  },
  {
   "cell_type": "code",
   "execution_count": 516,
   "metadata": {
    "id": "bsn4vn8RhLuy"
   },
   "outputs": [
    {
     "data": {
      "text/plain": [
       "False"
      ]
     },
     "execution_count": 516,
     "metadata": {},
     "output_type": "execute_result"
    }
   ],
   "source": [
    "# your code\n",
    "((stud_courses['18_group'] != 0) & (stud_courses['17_group'] != 0)).any()"
   ]
  },
  {
   "cell_type": "code",
   "execution_count": 517,
   "metadata": {},
   "outputs": [],
   "source": [
    "stud_group_17 = stud_courses[stud_courses['17_group'] != 0]\n",
    "stud_group_18 = stud_courses[stud_courses['18_group'] != 0]"
   ]
  },
  {
   "cell_type": "code",
   "execution_count": 518,
   "metadata": {},
   "outputs": [
    {
     "name": "stdout",
     "output_type": "stream",
     "text": [
      "Количество студентов набора 17-го года равно 134 чел., а 18-го - 213 чел.\n"
     ]
    }
   ],
   "source": [
    "print(f'Количество студентов набора 17-го года равно {stud_group_17.shape[0]} чел., а 18-го - {stud_group_18.shape[0]} чел.')"
   ]
  },
  {
   "cell_type": "code",
   "execution_count": 519,
   "metadata": {},
   "outputs": [
    {
     "data": {
      "text/plain": [
       "172.0    28\n",
       "171.0    26\n",
       "175.0    26\n",
       "173.0    19\n",
       "176.0    17\n",
       "174.0    15\n",
       "177.0     3\n",
       "Name: 17_group, dtype: int64"
      ]
     },
     "execution_count": 519,
     "metadata": {},
     "output_type": "execute_result"
    }
   ],
   "source": [
    "stud_group_17['17_group'].value_counts()"
   ]
  },
  {
   "cell_type": "code",
   "execution_count": 520,
   "metadata": {},
   "outputs": [
    {
     "data": {
      "text/plain": [
       "183.0    31\n",
       "187.0    30\n",
       "185.0    28\n",
       "181.0    27\n",
       "186.0    27\n",
       "182.0    26\n",
       "188.0    23\n",
       "184.0    21\n",
       "Name: 18_group, dtype: int64"
      ]
     },
     "execution_count": 520,
     "metadata": {},
     "output_type": "execute_result"
    }
   ],
   "source": [
    "stud_group_18['18_group'].value_counts()"
   ]
  },
  {
   "cell_type": "code",
   "execution_count": 521,
   "metadata": {},
   "outputs": [
    {
     "name": "stdout",
     "output_type": "stream",
     "text": [
      "Есть ли равные перцентили? True\n"
     ]
    }
   ],
   "source": [
    "print(f'Есть ли равные перцентили? {stud_courses.percentile.nunique() != stud_courses.shape[0]}')"
   ]
  },
  {
   "cell_type": "markdown",
   "metadata": {
    "id": "IlzHp3HVhLuz"
   },
   "source": [
    "#### 5. [0.5 балла] Какие  blended-курсы для четверокурсников существуют? На какой blended-курс записалось наибольшее количество студентов? На каком из blended-курсов собрались студенты с самым высоким средним рейтингом (выведите этот курс и количество студентов на нем)? "
   ]
  },
  {
   "cell_type": "markdown",
   "metadata": {},
   "source": [
    "Какие курсы есть:"
   ]
  },
  {
   "cell_type": "code",
   "execution_count": 522,
   "metadata": {
    "id": "j_BRWerHhLu0"
   },
   "outputs": [
    {
     "data": {
      "text/plain": [
       "array(['Соревновательный анализ данных', 'DevOps',\n",
       "       'Введение в дифференциальную геометрию'], dtype=object)"
      ]
     },
     "execution_count": 522,
     "metadata": {},
     "output_type": "execute_result"
    }
   ],
   "source": [
    "# your code\n",
    "stud_group_17.blended.unique()"
   ]
  },
  {
   "cell_type": "markdown",
   "metadata": {},
   "source": [
    "Самый популярный курс:"
   ]
  },
  {
   "cell_type": "code",
   "execution_count": 523,
   "metadata": {},
   "outputs": [
    {
     "data": {
      "text/plain": [
       "DevOps    87\n",
       "Name: blended, dtype: int64"
      ]
     },
     "execution_count": 523,
     "metadata": {},
     "output_type": "execute_result"
    }
   ],
   "source": [
    "stud_group_17.blended.value_counts().nlargest(1)"
   ]
  },
  {
   "cell_type": "markdown",
   "metadata": {},
   "source": [
    "Курс с самым высоким средним рейтингом:"
   ]
  },
  {
   "cell_type": "code",
   "execution_count": 524,
   "metadata": {},
   "outputs": [
    {
     "data": {
      "text/html": [
       "<div>\n",
       "<style scoped>\n",
       "    .dataframe tbody tr th:only-of-type {\n",
       "        vertical-align: middle;\n",
       "    }\n",
       "\n",
       "    .dataframe tbody tr th {\n",
       "        vertical-align: top;\n",
       "    }\n",
       "\n",
       "    .dataframe thead th {\n",
       "        text-align: right;\n",
       "    }\n",
       "</style>\n",
       "<table border=\"1\" class=\"dataframe\">\n",
       "  <thead>\n",
       "    <tr style=\"text-align: right;\">\n",
       "      <th></th>\n",
       "      <th>rating</th>\n",
       "    </tr>\n",
       "    <tr>\n",
       "      <th>blended</th>\n",
       "      <th></th>\n",
       "    </tr>\n",
       "  </thead>\n",
       "  <tbody>\n",
       "    <tr>\n",
       "      <th>Введение в дифференциальную геометрию</th>\n",
       "      <td>1210.733333</td>\n",
       "    </tr>\n",
       "  </tbody>\n",
       "</table>\n",
       "</div>"
      ],
      "text/plain": [
       "                                            rating\n",
       "blended                                           \n",
       "Введение в дифференциальную геометрию  1210.733333"
      ]
     },
     "execution_count": 524,
     "metadata": {},
     "output_type": "execute_result"
    }
   ],
   "source": [
    "stud_group_17.groupby('blended').agg({'rating': 'mean'}).nlargest(1, columns='rating')"
   ]
  },
  {
   "cell_type": "markdown",
   "metadata": {
    "id": "IU_FLt8HhLu0"
   },
   "source": [
    "#### 6. [1 балл] Выясните, есть ли студенты с абсолютно одинаковыми предпочтениями по всем курсам.\n",
    "\n",
    "Для этого сформируйте таблицу, где для каждого возможного набора курсов посчитано количество студентов, выбравших такой набор, и оставьте только строки где это количество больше 1.\n",
    "\n",
    "В данном случае набор курсов задается упорядоченным множеством ('fall_1', 'fall_2', 'fall_3', 'spring_1', 'spring_2', 'spring_3', 'blended'). Элемент blended будет нулевым для 3-го курса."
   ]
  },
  {
   "cell_type": "code",
   "execution_count": 525,
   "metadata": {
    "id": "BBDlR1mFhLu0"
   },
   "outputs": [],
   "source": [
    "# your code\n",
    "stud_courses_combs_counts = stud_courses.groupby(['fall_1', 'fall_2', 'fall_3', 'spring_1', 'spring_2', 'spring_3', 'blended']).size().reset_index(name='counts')"
   ]
  },
  {
   "cell_type": "code",
   "execution_count": 526,
   "metadata": {},
   "outputs": [
    {
     "data": {
      "text/html": [
       "<div>\n",
       "<style scoped>\n",
       "    .dataframe tbody tr th:only-of-type {\n",
       "        vertical-align: middle;\n",
       "    }\n",
       "\n",
       "    .dataframe tbody tr th {\n",
       "        vertical-align: top;\n",
       "    }\n",
       "\n",
       "    .dataframe thead th {\n",
       "        text-align: right;\n",
       "    }\n",
       "</style>\n",
       "<table border=\"1\" class=\"dataframe\">\n",
       "  <thead>\n",
       "    <tr style=\"text-align: right;\">\n",
       "      <th></th>\n",
       "      <th>fall_1</th>\n",
       "      <th>fall_2</th>\n",
       "      <th>fall_3</th>\n",
       "      <th>spring_1</th>\n",
       "      <th>spring_2</th>\n",
       "      <th>spring_3</th>\n",
       "      <th>blended</th>\n",
       "      <th>counts</th>\n",
       "    </tr>\n",
       "  </thead>\n",
       "  <tbody>\n",
       "    <tr>\n",
       "      <th>0</th>\n",
       "      <td>Statistical Learning Theory</td>\n",
       "      <td>Анализ неструктурированных данных</td>\n",
       "      <td>Сбор и обработка данных с помощью краудсорсинга</td>\n",
       "      <td>Обучение с подкреплением</td>\n",
       "      <td>Конфликты и кооперация</td>\n",
       "      <td>Компьютерное зрение</td>\n",
       "      <td>DevOps</td>\n",
       "      <td>2</td>\n",
       "    </tr>\n",
       "    <tr>\n",
       "      <th>60</th>\n",
       "      <td>Байесовские методы машинного обучения</td>\n",
       "      <td>Анализ неструктурированных данных</td>\n",
       "      <td>Глубинное обучение в обработке звука</td>\n",
       "      <td>Обучение с подкреплением</td>\n",
       "      <td>Генеративные модели в машинном обучении</td>\n",
       "      <td>Компьютерное зрение</td>\n",
       "      <td>DevOps</td>\n",
       "      <td>2</td>\n",
       "    </tr>\n",
       "    <tr>\n",
       "      <th>62</th>\n",
       "      <td>Байесовские методы машинного обучения</td>\n",
       "      <td>Анализ неструктурированных данных</td>\n",
       "      <td>Сбор и обработка данных с помощью краудсорсинга</td>\n",
       "      <td>Обучение с подкреплением</td>\n",
       "      <td>Компьютерное зрение</td>\n",
       "      <td>Генеративные модели в машинном обучении</td>\n",
       "      <td>DevOps</td>\n",
       "      <td>2</td>\n",
       "    </tr>\n",
       "    <tr>\n",
       "      <th>72</th>\n",
       "      <td>Безопасность компьютерных систем</td>\n",
       "      <td>Statistical Learning Theory</td>\n",
       "      <td>Матричные вычисления</td>\n",
       "      <td>Дискретная оптимизация</td>\n",
       "      <td>Промышленное программирование на языке Java</td>\n",
       "      <td>Дополнительные главы прикладной статистики</td>\n",
       "      <td></td>\n",
       "      <td>3</td>\n",
       "    </tr>\n",
       "    <tr>\n",
       "      <th>84</th>\n",
       "      <td>Безопасность компьютерных систем</td>\n",
       "      <td>Высокопроизводительные вычисления</td>\n",
       "      <td>Анализ неструктурированных данных</td>\n",
       "      <td>Проектирование и разработка высоконагруженных ...</td>\n",
       "      <td>Методы сжатия и передачи медиаданных</td>\n",
       "      <td>Конфликты и кооперация</td>\n",
       "      <td>DevOps</td>\n",
       "      <td>2</td>\n",
       "    </tr>\n",
       "    <tr>\n",
       "      <th>102</th>\n",
       "      <td>Безопасность компьютерных систем</td>\n",
       "      <td>Высокопроизводительные вычисления</td>\n",
       "      <td>Язык SQL</td>\n",
       "      <td>Компьютерные сети</td>\n",
       "      <td>Промышленное программирование на языке Java</td>\n",
       "      <td>Дискретная оптимизация</td>\n",
       "      <td></td>\n",
       "      <td>3</td>\n",
       "    </tr>\n",
       "    <tr>\n",
       "      <th>105</th>\n",
       "      <td>Безопасность компьютерных систем</td>\n",
       "      <td>Высокопроизводительные вычисления</td>\n",
       "      <td>Язык SQL</td>\n",
       "      <td>Промышленное программирование на языке Java</td>\n",
       "      <td>Компьютерные сети</td>\n",
       "      <td>Системы баз данных</td>\n",
       "      <td></td>\n",
       "      <td>2</td>\n",
       "    </tr>\n",
       "    <tr>\n",
       "      <th>113</th>\n",
       "      <td>Безопасность компьютерных систем</td>\n",
       "      <td>Матричные вычисления</td>\n",
       "      <td>Моделирование временных рядов</td>\n",
       "      <td>Промышленное программирование на языке Java</td>\n",
       "      <td>Компьютерные сети</td>\n",
       "      <td>Дискретная оптимизация</td>\n",
       "      <td></td>\n",
       "      <td>2</td>\n",
       "    </tr>\n",
       "    <tr>\n",
       "      <th>137</th>\n",
       "      <td>Безопасность компьютерных систем</td>\n",
       "      <td>Сбор и обработка данных с помощью краудсорсинга</td>\n",
       "      <td>Матричные вычисления</td>\n",
       "      <td>Компьютерные сети</td>\n",
       "      <td>Промышленное программирование на языке Java</td>\n",
       "      <td>Анализ данных в бизнесе</td>\n",
       "      <td></td>\n",
       "      <td>2</td>\n",
       "    </tr>\n",
       "    <tr>\n",
       "      <th>155</th>\n",
       "      <td>Безопасность компьютерных систем</td>\n",
       "      <td>Теория баз данных</td>\n",
       "      <td>Язык SQL</td>\n",
       "      <td>Машинное обучение 2</td>\n",
       "      <td>Компьютерные сети</td>\n",
       "      <td>Промышленное программирование на языке Java</td>\n",
       "      <td></td>\n",
       "      <td>2</td>\n",
       "    </tr>\n",
       "    <tr>\n",
       "      <th>184</th>\n",
       "      <td>Высокопроизводительные вычисления</td>\n",
       "      <td>Безопасность компьютерных систем</td>\n",
       "      <td>Сбор и обработка данных с помощью краудсорсинга</td>\n",
       "      <td>Проектирование и разработка высоконагруженных ...</td>\n",
       "      <td>Методы сжатия и передачи медиаданных</td>\n",
       "      <td>Компьютерное зрение</td>\n",
       "      <td>DevOps</td>\n",
       "      <td>2</td>\n",
       "    </tr>\n",
       "    <tr>\n",
       "      <th>201</th>\n",
       "      <td>Высокопроизводительные вычисления</td>\n",
       "      <td>Сбор и обработка данных с помощью краудсорсинга</td>\n",
       "      <td>Моделирование временных рядов</td>\n",
       "      <td>Проектирование и разработка высоконагруженных ...</td>\n",
       "      <td>Методы сжатия и передачи медиаданных</td>\n",
       "      <td>Методы сжатия и передачи медиаданных</td>\n",
       "      <td>DevOps</td>\n",
       "      <td>2</td>\n",
       "    </tr>\n",
       "    <tr>\n",
       "      <th>244</th>\n",
       "      <td>Моделирование временных рядов</td>\n",
       "      <td>Сбор и обработка данных с помощью краудсорсинга</td>\n",
       "      <td>Безопасность компьютерных систем</td>\n",
       "      <td>Компьютерные сети</td>\n",
       "      <td>Дополнительные главы прикладной статистики</td>\n",
       "      <td>Системы баз данных</td>\n",
       "      <td></td>\n",
       "      <td>2</td>\n",
       "    </tr>\n",
       "    <tr>\n",
       "      <th>292</th>\n",
       "      <td>Сбор и обработка данных с помощью краудсорсинга</td>\n",
       "      <td>Язык SQL</td>\n",
       "      <td>Теория баз данных</td>\n",
       "      <td>Промышленное программирование на языке Java</td>\n",
       "      <td>Машинное обучение 2</td>\n",
       "      <td>Компьютерные сети</td>\n",
       "      <td></td>\n",
       "      <td>2</td>\n",
       "    </tr>\n",
       "    <tr>\n",
       "      <th>313</th>\n",
       "      <td>Язык SQL</td>\n",
       "      <td>Высокопроизводительные вычисления</td>\n",
       "      <td>Теория баз данных</td>\n",
       "      <td>Компьютерные сети</td>\n",
       "      <td>Промышленное программирование на языке Java</td>\n",
       "      <td>Дискретная оптимизация</td>\n",
       "      <td></td>\n",
       "      <td>2</td>\n",
       "    </tr>\n",
       "  </tbody>\n",
       "</table>\n",
       "</div>"
      ],
      "text/plain": [
       "                                              fall_1  \\\n",
       "0                        Statistical Learning Theory   \n",
       "60             Байесовские методы машинного обучения   \n",
       "62             Байесовские методы машинного обучения   \n",
       "72                  Безопасность компьютерных систем   \n",
       "84                  Безопасность компьютерных систем   \n",
       "102                 Безопасность компьютерных систем   \n",
       "105                 Безопасность компьютерных систем   \n",
       "113                 Безопасность компьютерных систем   \n",
       "137                 Безопасность компьютерных систем   \n",
       "155                 Безопасность компьютерных систем   \n",
       "184                Высокопроизводительные вычисления   \n",
       "201                Высокопроизводительные вычисления   \n",
       "244                    Моделирование временных рядов   \n",
       "292  Сбор и обработка данных с помощью краудсорсинга   \n",
       "313                                         Язык SQL   \n",
       "\n",
       "                                              fall_2  \\\n",
       "0                  Анализ неструктурированных данных   \n",
       "60                 Анализ неструктурированных данных   \n",
       "62                 Анализ неструктурированных данных   \n",
       "72                       Statistical Learning Theory   \n",
       "84                 Высокопроизводительные вычисления   \n",
       "102                Высокопроизводительные вычисления   \n",
       "105                Высокопроизводительные вычисления   \n",
       "113                             Матричные вычисления   \n",
       "137  Сбор и обработка данных с помощью краудсорсинга   \n",
       "155                                Теория баз данных   \n",
       "184                 Безопасность компьютерных систем   \n",
       "201  Сбор и обработка данных с помощью краудсорсинга   \n",
       "244  Сбор и обработка данных с помощью краудсорсинга   \n",
       "292                                         Язык SQL   \n",
       "313                Высокопроизводительные вычисления   \n",
       "\n",
       "                                              fall_3  \\\n",
       "0    Сбор и обработка данных с помощью краудсорсинга   \n",
       "60              Глубинное обучение в обработке звука   \n",
       "62   Сбор и обработка данных с помощью краудсорсинга   \n",
       "72                              Матричные вычисления   \n",
       "84                 Анализ неструктурированных данных   \n",
       "102                                         Язык SQL   \n",
       "105                                         Язык SQL   \n",
       "113                    Моделирование временных рядов   \n",
       "137                             Матричные вычисления   \n",
       "155                                         Язык SQL   \n",
       "184  Сбор и обработка данных с помощью краудсорсинга   \n",
       "201                    Моделирование временных рядов   \n",
       "244                 Безопасность компьютерных систем   \n",
       "292                                Теория баз данных   \n",
       "313                                Теория баз данных   \n",
       "\n",
       "                                              spring_1  \\\n",
       "0                             Обучение с подкреплением   \n",
       "60                            Обучение с подкреплением   \n",
       "62                            Обучение с подкреплением   \n",
       "72                              Дискретная оптимизация   \n",
       "84   Проектирование и разработка высоконагруженных ...   \n",
       "102                                  Компьютерные сети   \n",
       "105        Промышленное программирование на языке Java   \n",
       "113        Промышленное программирование на языке Java   \n",
       "137                                  Компьютерные сети   \n",
       "155                                Машинное обучение 2   \n",
       "184  Проектирование и разработка высоконагруженных ...   \n",
       "201  Проектирование и разработка высоконагруженных ...   \n",
       "244                                  Компьютерные сети   \n",
       "292        Промышленное программирование на языке Java   \n",
       "313                                  Компьютерные сети   \n",
       "\n",
       "                                        spring_2  \\\n",
       "0                         Конфликты и кооперация   \n",
       "60       Генеративные модели в машинном обучении   \n",
       "62                           Компьютерное зрение   \n",
       "72   Промышленное программирование на языке Java   \n",
       "84          Методы сжатия и передачи медиаданных   \n",
       "102  Промышленное программирование на языке Java   \n",
       "105                            Компьютерные сети   \n",
       "113                            Компьютерные сети   \n",
       "137  Промышленное программирование на языке Java   \n",
       "155                            Компьютерные сети   \n",
       "184         Методы сжатия и передачи медиаданных   \n",
       "201         Методы сжатия и передачи медиаданных   \n",
       "244   Дополнительные главы прикладной статистики   \n",
       "292                          Машинное обучение 2   \n",
       "313  Промышленное программирование на языке Java   \n",
       "\n",
       "                                        spring_3 blended  counts  \n",
       "0                            Компьютерное зрение  DevOps       2  \n",
       "60                           Компьютерное зрение  DevOps       2  \n",
       "62       Генеративные модели в машинном обучении  DevOps       2  \n",
       "72    Дополнительные главы прикладной статистики               3  \n",
       "84                        Конфликты и кооперация  DevOps       2  \n",
       "102                       Дискретная оптимизация               3  \n",
       "105                           Системы баз данных               2  \n",
       "113                       Дискретная оптимизация               2  \n",
       "137                      Анализ данных в бизнесе               2  \n",
       "155  Промышленное программирование на языке Java               2  \n",
       "184                          Компьютерное зрение  DevOps       2  \n",
       "201         Методы сжатия и передачи медиаданных  DevOps       2  \n",
       "244                           Системы баз данных               2  \n",
       "292                            Компьютерные сети               2  \n",
       "313                       Дискретная оптимизация               2  "
      ]
     },
     "execution_count": 526,
     "metadata": {},
     "output_type": "execute_result"
    }
   ],
   "source": [
    "stud_courses_combs_counts[stud_courses_combs_counts.counts > 1]"
   ]
  },
  {
   "cell_type": "markdown",
   "metadata": {
    "id": "spu3r3vchLu0"
   },
   "source": [
    "#### 7. [0.5 балла] Найдите курсы по выбору, на которые записывались как студенты 18-го года набора, так и студенты 17-го года."
   ]
  },
  {
   "cell_type": "code",
   "execution_count": 527,
   "metadata": {
    "id": "t21fWi8ShLu0"
   },
   "outputs": [
    {
     "data": {
      "text/plain": [
       "array(['DevOps', 'Statistical Learning Theory', 'Анализ данных в бизнесе',\n",
       "       'Анализ неструктурированных данных',\n",
       "       'Байесовские методы машинного обучения',\n",
       "       'Безопасность компьютерных систем',\n",
       "       'Введение в дифференциальную геометрию',\n",
       "       'Высокопроизводительные вычисления',\n",
       "       'Генеративные модели в машинном обучении',\n",
       "       'Глубинное обучение в обработке звука', 'Дискретная оптимизация',\n",
       "       'Дополнительные главы прикладной статистики',\n",
       "       'Компьютерное зрение', 'Компьютерные сети',\n",
       "       'Конфликты и кооперация', 'Матричные вычисления',\n",
       "       'Машинное обучение 2', 'Методы сжатия и передачи медиаданных',\n",
       "       'Моделирование временных рядов', 'Обучение с подкреплением',\n",
       "       'Принятие решений в условиях риска и неопределённости',\n",
       "       'Проектирование и разработка высоконагруженных сервисов',\n",
       "       'Промышленное программирование на языке Java',\n",
       "       'Сбор и обработка данных с помощью краудсорсинга',\n",
       "       'Символьные вычисления', 'Системы баз данных',\n",
       "       'Соревновательный анализ данных', 'Теория баз данных',\n",
       "       'Численные методы', 'Язык SQL'], dtype=object)"
      ]
     },
     "execution_count": 527,
     "metadata": {},
     "output_type": "execute_result"
    }
   ],
   "source": [
    "# your code\n",
    "choice_periods = ['fall_1', 'fall_2', 'fall_3', 'spring_1', 'spring_2', 'spring_3', 'blended']\n",
    "\n",
    "# выкинул самую первую пустую строку, потому что не у всех есть blended курс\n",
    "all_courses = np.unique(stud_courses[choice_periods].values)[1:]\n",
    "\n",
    "all_courses"
   ]
  },
  {
   "cell_type": "code",
   "execution_count": 528,
   "metadata": {},
   "outputs": [
    {
     "data": {
      "text/plain": [
       "['Statistical Learning Theory',\n",
       " 'Безопасность компьютерных систем',\n",
       " 'Высокопроизводительные вычисления',\n",
       " 'Моделирование временных рядов',\n",
       " 'Принятие решений в условиях риска и неопределённости',\n",
       " 'Сбор и обработка данных с помощью краудсорсинга',\n",
       " 'Численные методы']"
      ]
     },
     "execution_count": 528,
     "metadata": {},
     "output_type": "execute_result"
    }
   ],
   "source": [
    "def filter_stud(course):\n",
    "    mp = {period: [course] for period in choice_periods}\n",
    "    mask = stud_courses[choice_periods].isin(mp).any(axis=1)\n",
    "    return stud_courses[mask]\n",
    "\n",
    "def one_year_registered(course, year):\n",
    "    filtered_stud = filter_stud(course)\n",
    "    return len(filtered_stud[filtered_stud[f'{year}_group'] != 0]) == len(filtered_stud)\n",
    "\n",
    "def both_years_registered(course):\n",
    "    filtered_stud = filter_stud(course)\n",
    "    return filtered_stud[filtered_stud['17_group'] != 0].shape[0] > 0 and filtered_stud[filtered_stud['18_group'] != 0].shape[0] > 0\n",
    "\n",
    "\n",
    "both_years_courses = list(filter(lambda course: both_years_registered(course), all_courses))\n",
    "both_years_courses"
   ]
  },
  {
   "cell_type": "markdown",
   "metadata": {
    "id": "PYfX-Dr5hLu0"
   },
   "source": [
    "Методом исключения найдите курсы, которые предлагались только студентам 18-го года и только студентам 17-го года."
   ]
  },
  {
   "cell_type": "markdown",
   "metadata": {},
   "source": [
    "Полный список:"
   ]
  },
  {
   "cell_type": "code",
   "execution_count": 529,
   "metadata": {
    "id": "G9SWBOpehLu1"
   },
   "outputs": [
    {
     "data": {
      "text/plain": [
       "{'DevOps',\n",
       " 'Анализ данных в бизнесе',\n",
       " 'Анализ неструктурированных данных',\n",
       " 'Байесовские методы машинного обучения',\n",
       " 'Введение в дифференциальную геометрию',\n",
       " 'Генеративные модели в машинном обучении',\n",
       " 'Глубинное обучение в обработке звука',\n",
       " 'Дискретная оптимизация',\n",
       " 'Дополнительные главы прикладной статистики',\n",
       " 'Компьютерное зрение',\n",
       " 'Компьютерные сети',\n",
       " 'Конфликты и кооперация',\n",
       " 'Матричные вычисления',\n",
       " 'Машинное обучение 2',\n",
       " 'Методы сжатия и передачи медиаданных',\n",
       " 'Обучение с подкреплением',\n",
       " 'Проектирование и разработка высоконагруженных сервисов',\n",
       " 'Промышленное программирование на языке Java',\n",
       " 'Символьные вычисления',\n",
       " 'Системы баз данных',\n",
       " 'Соревновательный анализ данных',\n",
       " 'Теория баз данных',\n",
       " 'Язык SQL'}"
      ]
     },
     "execution_count": 529,
     "metadata": {},
     "output_type": "execute_result"
    }
   ],
   "source": [
    "# your code\n",
    "set(all_courses) - set(both_years_courses)"
   ]
  },
  {
   "cell_type": "markdown",
   "metadata": {},
   "source": [
    "Для 4-го курса:"
   ]
  },
  {
   "cell_type": "code",
   "execution_count": 530,
   "metadata": {},
   "outputs": [
    {
     "data": {
      "text/plain": [
       "['DevOps',\n",
       " 'Анализ неструктурированных данных',\n",
       " 'Байесовские методы машинного обучения',\n",
       " 'Введение в дифференциальную геометрию',\n",
       " 'Генеративные модели в машинном обучении',\n",
       " 'Глубинное обучение в обработке звука',\n",
       " 'Компьютерное зрение',\n",
       " 'Конфликты и кооперация',\n",
       " 'Методы сжатия и передачи медиаданных',\n",
       " 'Обучение с подкреплением',\n",
       " 'Проектирование и разработка высоконагруженных сервисов',\n",
       " 'Символьные вычисления',\n",
       " 'Соревновательный анализ данных']"
      ]
     },
     "execution_count": 530,
     "metadata": {},
     "output_type": "execute_result"
    }
   ],
   "source": [
    "list(filter(lambda course: one_year_registered(course, 17), all_courses))"
   ]
  },
  {
   "cell_type": "markdown",
   "metadata": {},
   "source": [
    "Для 3-го курса:"
   ]
  },
  {
   "cell_type": "code",
   "execution_count": 531,
   "metadata": {},
   "outputs": [
    {
     "data": {
      "text/plain": [
       "['Анализ данных в бизнесе',\n",
       " 'Дискретная оптимизация',\n",
       " 'Дополнительные главы прикладной статистики',\n",
       " 'Компьютерные сети',\n",
       " 'Матричные вычисления',\n",
       " 'Машинное обучение 2',\n",
       " 'Промышленное программирование на языке Java',\n",
       " 'Системы баз данных',\n",
       " 'Теория баз данных',\n",
       " 'Язык SQL']"
      ]
     },
     "execution_count": 531,
     "metadata": {},
     "output_type": "execute_result"
    }
   ],
   "source": [
    "list(filter(lambda course: one_year_registered(course, 18), all_courses))"
   ]
  },
  {
   "cell_type": "markdown",
   "metadata": {
    "id": "uL45Tg5fhLu1"
   },
   "source": [
    "### Визуализации и matplotlib"
   ]
  },
  {
   "cell_type": "markdown",
   "metadata": {
    "id": "MY9lKmP2hLu1"
   },
   "source": [
    "При работе с данными часто неудобно делать какие-то выводы, если смотреть на таблицу и числа в частности, поэтому важно уметь визуализировать данные. Здесь будут описаны ключевые правила оформления графиков для **всех** домашних заданий.\n",
    "\n",
    "У matplotlib, конечно же, есть [документация](https://matplotlib.org/users/index.html) с большим количеством [примеров](https://matplotlib.org/examples/), но для начала достаточно знать про несколько основных типов графиков:\n",
    "- plot — обычный поточечный график, которым можно изображать кривые или отдельные точки;\n",
    "- hist — гистограмма, показывающая распределение некоторой величины;\n",
    "- scatter — график, показывающий взаимосвязь двух величин;\n",
    "- bar — столбцовый график, показывающий взаимосвязь количественной величины от категориальной.\n",
    "\n",
    "В этом задании вы попробуете построить один из них. Не забывайте про базовые принципы построения приличных графиков:\n",
    "- оси должны быть подписаны, причём не слишком мелко;\n",
    "- у графика должно быть название;\n",
    "- если изображено несколько графиков, то необходима поясняющая легенда;\n",
    "- все линии на графиках должны быть чётко видны (нет похожих цветов или цветов, сливающихся с фоном);\n",
    "- если отображена величина, имеющая очевидный диапазон значений (например, проценты могут быть от 0 до 100), то желательно масштабировать ось на весь диапазон значений (исключением является случай, когда вам необходимо показать малое отличие, которое незаметно в таких масштабах);\n",
    "- сетка на графике помогает оценить значения в точках на глаз, это обычно полезно, поэтому лучше ее отрисовывать;\n",
    "- если распределение на гистограмме имеет тяжёлые хвосты, лучше использовать логарифмическую шкалу.\n",
    "\n",
    "Еще одна билиотека для визуализации: [seaborn](https://jakevdp.github.io/PythonDataScienceHandbook/04.14-visualization-with-seaborn.html) (обычно сокращается до sns). Это настройка над matplotlib, иногда удобнее и красивее делать визуализации через неё. \n",
    "\n",
    "**5 пунктов после которых ваши графики не будут прежними:**\n",
    "- для красивой картинки <code>%config InlineBackend.figure_format = 'retina'</code>\n",
    "- задаем размер (почти) всех графиков (можно выбрать другие значения) <code>plt.rcParams['figure.figsize'] = 8, 5</code>\n",
    "- размер шрифта подписей графиков <code>plt.rcParams['font.size'] = 12</code>\n",
    "- формат в котором сохраняется изображение <code>mpl.rcParams['savefig.format'] = 'pdf'</code>\n",
    "- sns – seaborn, добавляет решетку <code>sns.set_style('darkgrid')</code>\n",
    "\n",
    "Добавьте эти функции в ячейку ниже. Каждый график все равно придется настраивать отдельно, но указанные строчки позволят значительно упростить процесс.  "
   ]
  },
  {
   "cell_type": "code",
   "execution_count": 532,
   "metadata": {
    "id": "na9doUOFhLu1"
   },
   "outputs": [],
   "source": [
    "%matplotlib inline\n",
    "import matplotlib.pyplot as plt\n",
    "import seaborn as sns\n",
    "\n",
    "# your code\n",
    "%config InlineBackend.figure_format = 'retina'\n",
    "plt.rcParams['figure.figsize'] = 8, 5\n",
    "plt.rcParams['font.size'] = 12\n",
    "mpl.rcParams['savefig.format'] = 'pdf'\n",
    "sns.set_style('darkgrid')"
   ]
  },
  {
   "cell_type": "markdown",
   "metadata": {
    "id": "kikwLpxfhLu1"
   },
   "source": [
    "#### 8. [0.5 балла] Постройте график средних рейтингов по дням получения ответов (bar plot)."
   ]
  },
  {
   "cell_type": "code",
   "execution_count": 533,
   "metadata": {
    "id": "UTPLVeQvhLu2"
   },
   "outputs": [
    {
     "data": {
      "image/png": "[encoded data removed]",
      "text/plain": [
       "<Figure size 1440x432 with 1 Axes>"
      ]
     },
     "metadata": {
      "image/png": {
       "height": 390,
       "width": 1179
      }
     },
     "output_type": "display_data"
    }
   ],
   "source": [
    "# your code\n",
    "stud_courses['date'] = stud_courses.timestamp.dt.date\n",
    "mean_rating_by_days = stud_courses.groupby('date', as_index=False).agg({'rating': 'mean'})\n",
    "\n",
    "plt.figure(figsize=(20, 6))\n",
    "mean_rating_plot = sns.barplot(x=mean_rating_by_days['date'], y=mean_rating_by_days['rating']);\n",
    "plt.title('График средних рейтингов по дням получения ответов')\n",
    "plt.xlabel('День')\n",
    "plt.ylabel('Рейтинг');"
   ]
  },
  {
   "cell_type": "markdown",
   "metadata": {
    "id": "AmsQg9_xhLu2"
   },
   "source": [
    "Сохраните график в формате pdf (так он останется векторизованным)."
   ]
  },
  {
   "cell_type": "code",
   "execution_count": 534,
   "metadata": {
    "id": "vKZNSwWghLu2"
   },
   "outputs": [],
   "source": [
    "# your code\n",
    "mean_rating_plot.figure.savefig('mean_rating_plot.pdf')"
   ]
  },
  {
   "cell_type": "markdown",
   "metadata": {
    "id": "sCgWwjl0hLu2"
   },
   "source": [
    "### 2. Распределение студентов по курсам."
   ]
  },
  {
   "cell_type": "markdown",
   "metadata": {},
   "source": [
    "<span style=\"color:red\">!!!ВНИМАТЕЛЬНО ИЗУЧИТЕ ТЕКСТ НИЖЕ!!!</span>.\n",
    "\n",
    "<span style=\"color:orange\">Если во время выполнения заданий у вас вознинут вопросы -- еще раз перечитайте текст целиком, скорее всего ответы уже содержатся в нем.</span>"
   ]
  },
  {
   "cell_type": "markdown",
   "metadata": {
    "id": "VNqXUpr4hLu3"
   },
   "source": [
    "Теперь вам нужно распределить студентов по осенним курсам по выбору, учитывая их предпочтения."
   ]
  },
  {
   "cell_type": "markdown",
   "metadata": {
    "id": "5cAR2FgphLu3"
   },
   "source": [
    "Алгоритм распределения студентов по курсам:\n",
    "1. По умолчанию на каждой дисциплине по выбору у 3 и 4 курсов может учиться 1 группа (до 30 студентов). Исключения описаны ниже. На blended-дисциплинах для четверокурсников количество мест не ограничено.\n",
    "2. Проводится первая волна отбора. Для каждой дисциплины формируется список тех, кто указал её первым приоритетом (если студент должен выбрать два курса по выбору, то для него дисциплины, которые он указал первым и вторым приоритетом, рассматриваются как дисциплины первого приоритета). Если желающих больше, чем мест, то выбирается топ по перцентилю рейтинга.\n",
    "3. На дисциплинах, где остались места после первой волны, формируются списки тех, кто выбрал их вторым приоритетом, и места заполняются лучшими по перцентили рейтинга студентами. После этого проводится такая же процедура для дисциплин третьего приоритета.\n",
    "4. Если студент не попал на необходимое количество курсов по итогам трёх волн, с ним связывается учебный офис и решает вопрос в индивидуальном порядке."
   ]
  },
  {
   "cell_type": "markdown",
   "metadata": {
    "id": "BiNKVwS6hLu3"
   },
   "source": [
    "Обращаем ваше внимание на следующие детали:\n",
    "- Конкурс на каждый курс общий для 3-го и 4-го курса\n",
    "\n",
    "- По умолчанию студент выбирает один осенний и один весенний курс по выбору, а также четверокурсники выбирают один blended-курс. Студенты групп 17-го года специализаций МОП и ТИ выбирают по 2 осенних и 2 весенних курса по выбору, также студенты групп 18' специализации МИ выбирают 2 осенних курса. <i>Для студентов, которые выбирают 2 курса (например, осенних) первый приоритет — <code>fall_1</code> и <code>fall_2</code>, второй приоритет — <code>fall_3</code>. Такие студенты участвуют только в двух волнах отбора</i>.\n",
    "\n",
    "- Студенты специализации МОП не могут выбрать весенним курсом по выбору Машинное обучение 2. **Если студент специализации МОП выбрал Машинное обучение 2, то его приоритеты сдвигаются.** Из-за совпадений первого и второго курса по выбору двигать приоритеты не надо.\n",
    "\n",
    "- Blended-курсы не трогайте, по ним не надо распределять, на другие курсы они никак не влияют.\n",
    "\n",
    "- Заведомо известно, что в процессе распределения не возникнет ситуации, когда на одно место претендуют студенты с одинаковым перцентилем.\n",
    "\n",
    "- Постарайтесь воздержаться от использования циклов там, где это возможно. <i>Допустимо итерироваться по <b>курсам</b>, на которые проводится отбор, и по <b>волнам</b> отбора. Если вы придумаете, как обойтись и без этих циклов, то на усмотрение проверяющего могут быть добавлены бонусные баллы. <b>Дублирование кода не признается успешным избавлением от циклов</b></i>\n",
    "\n",
    "- На выходе ожидается файл res_fall.csv с результатами распределения на осенние курсы по выбору. Файл должен быть следующего формата:\n",
    "\n",
    "    * Три колонки: ID, course1, course2\n",
    "    \n",
    "    * Если студент не попал на курс, но должен был, то вместо названия курса в ячейке должна быть строка \"???\"\n",
    "    \n",
    "    * Если студент должен выбрать только один курс, то в колонке course2 для него должна стоять строка \"-\"\n",
    "    \n",
    "    * Если студент должен выбрать два курса по выбору, то порядок в колонках course1 и course2 не важен.\n",
    "    \n",
    "    * hint: для сохранения воспользуйтесь df.to_csv('solution.csv', index=None)\n",
    "    \n",
    "\n",
    "Для работы вам могут понадобиться следующие данные:\n",
    "\n",
    "- Результаты опроса (вы уже использовали этот файл в первой части задания, но на всякий случай ссылка: https://www.dropbox.com/s/f4rm8sjc3v99p0m/_end_seminar.xlsx?dl=0)\n",
    "\n",
    "- Соответствие номеров групп специализациям:\n",
    "\n",
    "    * 171, 172 - МОП; 173 - ТИ; 174 — АДИС; 175, 176 — РС; 177 — АПР\n",
    "    \n",
    "    * У студентов 18-го года номера групп соответствуют номерам до распределения по специализациям. Это означает, что по номеру группы 18* нельзя однозначно определить специализацию студента. При этом в рамках распределения важно знать информацию только о двух из них: МОП и МИ. Эти знание можно получить из колонок 'is_ml_student\n",
    "' и 'is_mi' соответственно.\n",
    "\n",
    "- Ограничения по количеству мест на курсах по выбору:\n",
    "\n",
    "    * Осенние: везде 30 мест, кроме Statistical Learning Theory (60 мест), Высокопроизводительных вычислений (60 мест), Анализа неструктурированных данных ($\\infty$ мест)\n",
    "\n",
    "    * Весенние: везде 30 мест, кроме Обучения с подкреплением (60 мест), Анализа данных в бизнесе (60 мест).\n",
    "\n",
    "\n",
    "Кстати, убедитесь, что в данных больше нет пропусков и повторных записей."
   ]
  },
  {
   "cell_type": "markdown",
   "metadata": {
    "id": "o5t55IcQhLu4"
   },
   "source": [
    "#### 0. Проверка\n",
    "\n",
    "Для начала давайте убедимся, что вы успешно выполнили задания первой части и проверим ваши данные на наличие пропусков и повторов:"
   ]
  },
  {
   "cell_type": "code",
   "execution_count": 535,
   "metadata": {
    "id": "34HWEdVdhLu4"
   },
   "outputs": [],
   "source": [
    "assert stud_courses.shape[0] == 347, 'В таблице остались повторы или потеряны данные'\n",
    "\n",
    "assert stud_courses.isna().sum().sum() == 0, 'В таблице остались пропуски'"
   ]
  },
  {
   "cell_type": "markdown",
   "metadata": {
    "id": "_ImUFyG3hLu4"
   },
   "source": [
    "Если вы не получили AssertionError, то можете продолжать."
   ]
  },
  {
   "cell_type": "markdown",
   "metadata": {
    "id": "LTGSwwvAhLu4"
   },
   "source": [
    "#### 1. [1 балл] Создайте новый признак, обозначающий, сколько осенних курсов должен выбрать студент\n",
    "\n",
    "В этом вам может помочь информация о специализации и группе стундента."
   ]
  },
  {
   "cell_type": "code",
   "execution_count": 536,
   "metadata": {
    "id": "ouxo0kHFhLu4"
   },
   "outputs": [],
   "source": [
    "# (￣^￣)ゞ\n",
    "two_fall_courses_mask = stud_courses['17_group'].isin([171, 172, 173]) | ((stud_courses['18_group'] > 0) & (stud_courses['is_mi'] == 1))\n",
    "stud_courses.loc[two_fall_courses_mask, 'num_fall_courses'] = 2\n",
    "stud_courses.loc[~two_fall_courses_mask, 'num_fall_courses'] = 1"
   ]
  },
  {
   "cell_type": "markdown",
   "metadata": {
    "id": "S47aq1sQhLu4"
   },
   "source": [
    "Проверка:"
   ]
  },
  {
   "cell_type": "code",
   "execution_count": 537,
   "metadata": {
    "id": "OlOgzDKDhLu5"
   },
   "outputs": [],
   "source": [
    "col_name = 'num_fall_courses'\n",
    "\n",
    "assert(stud_courses[stud_courses['id'] == '2662600c2c37e11e62f6ee0b88452f22'][col_name] == 2).all()\n",
    "assert(stud_courses[stud_courses['id'] == 'd555d2805e1d93d4f023e57dc4c8f403'][col_name] == 2).all()\n",
    "assert(stud_courses[stud_courses['id'] == '8fe79f84f36e3a5d2d6745621321302c'][col_name] == 1).all()\n",
    "assert(stud_courses[stud_courses['id'] == 'e4caca755ee0bdd711e18fb8084958b5'][col_name] == 1).all()"
   ]
  },
  {
   "cell_type": "markdown",
   "metadata": {
    "id": "VtQYhwuPhLu5"
   },
   "source": [
    "#### 2. [2 балла] Распределите студентов в соответствии с первым приоритетом"
   ]
  },
  {
   "cell_type": "code",
   "execution_count": 538,
   "metadata": {},
   "outputs": [
    {
     "data": {
      "text/plain": [
       "array(['DevOps', 'Statistical Learning Theory', 'Анализ данных в бизнесе',\n",
       "       'Анализ неструктурированных данных',\n",
       "       'Байесовские методы машинного обучения',\n",
       "       'Безопасность компьютерных систем',\n",
       "       'Введение в дифференциальную геометрию',\n",
       "       'Высокопроизводительные вычисления',\n",
       "       'Генеративные модели в машинном обучении',\n",
       "       'Глубинное обучение в обработке звука', 'Дискретная оптимизация',\n",
       "       'Дополнительные главы прикладной статистики',\n",
       "       'Компьютерное зрение', 'Компьютерные сети',\n",
       "       'Конфликты и кооперация', 'Матричные вычисления',\n",
       "       'Машинное обучение 2', 'Методы сжатия и передачи медиаданных',\n",
       "       'Моделирование временных рядов', 'Обучение с подкреплением',\n",
       "       'Принятие решений в условиях риска и неопределённости',\n",
       "       'Проектирование и разработка высоконагруженных сервисов',\n",
       "       'Промышленное программирование на языке Java',\n",
       "       'Сбор и обработка данных с помощью краудсорсинга',\n",
       "       'Символьные вычисления', 'Системы баз данных',\n",
       "       'Соревновательный анализ данных', 'Теория баз данных',\n",
       "       'Численные методы', 'Язык SQL'], dtype=object)"
      ]
     },
     "execution_count": 538,
     "metadata": {},
     "output_type": "execute_result"
    }
   ],
   "source": [
    "all_courses"
   ]
  },
  {
   "cell_type": "code",
   "execution_count": 563,
   "metadata": {},
   "outputs": [],
   "source": [
    "courses_max_cap = {course: 30 for course in all_courses}\n",
    "courses_max_cap['Statistical Learning Theory'] = 60\n",
    "courses_max_cap['Высокопроизводительные вычисления'] = 60\n",
    "courses_max_cap['Анализ неструктурированных данных'] = float(\"inf\")\n",
    "courses_max_cap['Обучение с подкреплением'] = 60\n",
    "courses_max_cap['Анализ данных в бизнесе'] = 60\n",
    "\n",
    "stud_courses['fall_is_first_place'] = np.nan\n",
    "stud_courses['fall_is_last_place'] = np.nan\n",
    "stud_courses['fall_course_1'] = '-'\n",
    "stud_courses['fall_course_2'] = '-'"
   ]
  },
  {
   "cell_type": "code",
   "execution_count": 572,
   "metadata": {
    "id": "6gWfT3vqhLu5"
   },
   "outputs": [],
   "source": [
    "# (￣^￣)ゞ\n",
    "\n",
    "def distribute_students(period):\n",
    "    stud_courses.sort_values('percentile', inplace=True)\n",
    "    \n",
    "    for course in all_courses:\n",
    "        course1_mask = (stud_courses[f'{period}_1'] == course)\n",
    "        course2_mask = ((stud_courses[f'{period}_2'] == course) & (stud_courses['num_{}_courses'.format(period)] == 2))\n",
    "        \n",
    "        for i, mask in enumerate([course1_mask, course2_mask], 1):\n",
    "            stud_enrolled = stud_courses[mask].head(min(courses_max_cap[course], mask.sum()))\n",
    "            stud_enrolled[f'fall_course_{i}'] = course\n",
    "            stud_courses.loc[stud_enrolled.index] = stud_enrolled\n",
    "            \n",
    "        \n",
    "distribute_students('fall')"
   ]
  },
  {
   "cell_type": "code",
   "execution_count": 574,
   "metadata": {},
   "outputs": [
    {
     "data": {
      "text/plain": [
       "-                                                       258\n",
       "Анализ неструктурированных данных                        16\n",
       "Сбор и обработка данных с помощью краудсорсинга          16\n",
       "Глубинное обучение в обработке звука                     13\n",
       "Моделирование временных рядов                             9\n",
       "Statistical Learning Theory                               8\n",
       "Байесовские методы машинного обучения                     8\n",
       "Безопасность компьютерных систем                          6\n",
       "Высокопроизводительные вычисления                         4\n",
       "Принятие решений в условиях риска и неопределённости      3\n",
       "Теория баз данных                                         3\n",
       "Язык SQL                                                  2\n",
       "Матричные вычисления                                      1\n",
       "Name: fall_course_2, dtype: int64"
      ]
     },
     "execution_count": 574,
     "metadata": {},
     "output_type": "execute_result"
    }
   ],
   "source": [
    "stud_courses.fall_course_2.value_counts()"
   ]
  },
  {
   "cell_type": "code",
   "execution_count": 551,
   "metadata": {},
   "outputs": [],
   "source": [
    "#stud_courses.merge(dist_fall_1['Statistical Learning Theory'], on='id')"
   ]
  },
  {
   "cell_type": "code",
   "execution_count": 553,
   "metadata": {},
   "outputs": [
    {
     "data": {
      "text/html": [
       "<div>\n",
       "<style scoped>\n",
       "    .dataframe tbody tr th:only-of-type {\n",
       "        vertical-align: middle;\n",
       "    }\n",
       "\n",
       "    .dataframe tbody tr th {\n",
       "        vertical-align: top;\n",
       "    }\n",
       "\n",
       "    .dataframe thead th {\n",
       "        text-align: right;\n",
       "    }\n",
       "</style>\n",
       "<table border=\"1\" class=\"dataframe\">\n",
       "  <thead>\n",
       "    <tr style=\"text-align: right;\">\n",
       "      <th></th>\n",
       "      <th>id</th>\n",
       "      <th>timestamp</th>\n",
       "      <th>rating</th>\n",
       "      <th>18_group</th>\n",
       "      <th>is_mi</th>\n",
       "      <th>fall_1</th>\n",
       "      <th>fall_2</th>\n",
       "      <th>fall_3</th>\n",
       "      <th>spring_1</th>\n",
       "      <th>spring_2</th>\n",
       "      <th>spring_3</th>\n",
       "      <th>percentile</th>\n",
       "      <th>17_group</th>\n",
       "      <th>blended</th>\n",
       "      <th>is_ml_student</th>\n",
       "      <th>date</th>\n",
       "      <th>num_fall_courses</th>\n",
       "      <th>is_first_place</th>\n",
       "      <th>is_last_place</th>\n",
       "    </tr>\n",
       "  </thead>\n",
       "  <tbody>\n",
       "    <tr>\n",
       "      <th>66</th>\n",
       "      <td>3a7326c9e355a67d3805824ca34c4bc5</td>\n",
       "      <td>2020-05-14 21:52:43.844</td>\n",
       "      <td>1457</td>\n",
       "      <td>0.0</td>\n",
       "      <td>0.0</td>\n",
       "      <td>Statistical Learning Theory</td>\n",
       "      <td>Высокопроизводительные вычисления</td>\n",
       "      <td>Statistical Learning Theory</td>\n",
       "      <td>Символьные вычисления</td>\n",
       "      <td>Численные методы</td>\n",
       "      <td>Символьные вычисления</td>\n",
       "      <td>0.000000</td>\n",
       "      <td>173.0</td>\n",
       "      <td>Введение в дифференциальную геометрию</td>\n",
       "      <td>0.0</td>\n",
       "      <td>2020-05-14</td>\n",
       "      <td>2.0</td>\n",
       "      <td>True</td>\n",
       "      <td>NaN</td>\n",
       "    </tr>\n",
       "    <tr>\n",
       "      <th>136</th>\n",
       "      <td>723d5f32b699c971b4095a017c883ffa</td>\n",
       "      <td>2020-05-18 21:59:48.193</td>\n",
       "      <td>759</td>\n",
       "      <td>184.0</td>\n",
       "      <td>0.0</td>\n",
       "      <td>Statistical Learning Theory</td>\n",
       "      <td>Безопасность компьютерных систем</td>\n",
       "      <td>Матричные вычисления</td>\n",
       "      <td>Дополнительные главы прикладной статистики</td>\n",
       "      <td>Дискретная оптимизация</td>\n",
       "      <td>Численные методы</td>\n",
       "      <td>0.017937</td>\n",
       "      <td>0.0</td>\n",
       "      <td></td>\n",
       "      <td>1.0</td>\n",
       "      <td>2020-05-18</td>\n",
       "      <td>1.0</td>\n",
       "      <td>NaN</td>\n",
       "      <td>NaN</td>\n",
       "    </tr>\n",
       "    <tr>\n",
       "      <th>33</th>\n",
       "      <td>1f63fc485d851236249263b91dc03d6b</td>\n",
       "      <td>2020-05-18 18:17:59.748</td>\n",
       "      <td>756</td>\n",
       "      <td>181.0</td>\n",
       "      <td>0.0</td>\n",
       "      <td>Statistical Learning Theory</td>\n",
       "      <td>Матричные вычисления</td>\n",
       "      <td>Безопасность компьютерных систем</td>\n",
       "      <td>Дискретная оптимизация</td>\n",
       "      <td>Дополнительные главы прикладной статистики</td>\n",
       "      <td>Промышленное программирование на языке Java</td>\n",
       "      <td>0.031390</td>\n",
       "      <td>0.0</td>\n",
       "      <td></td>\n",
       "      <td>1.0</td>\n",
       "      <td>2020-05-18</td>\n",
       "      <td>1.0</td>\n",
       "      <td>NaN</td>\n",
       "      <td>NaN</td>\n",
       "    </tr>\n",
       "    <tr>\n",
       "      <th>303</th>\n",
       "      <td>e4caca755ee0bdd711e18fb8084958b5</td>\n",
       "      <td>2020-05-15 11:42:16.910</td>\n",
       "      <td>724</td>\n",
       "      <td>181.0</td>\n",
       "      <td>0.0</td>\n",
       "      <td>Statistical Learning Theory</td>\n",
       "      <td>Безопасность компьютерных систем</td>\n",
       "      <td>Моделирование временных рядов</td>\n",
       "      <td>Численные методы</td>\n",
       "      <td>Промышленное программирование на языке Java</td>\n",
       "      <td>Машинное обучение 2</td>\n",
       "      <td>0.103139</td>\n",
       "      <td>0.0</td>\n",
       "      <td></td>\n",
       "      <td>0.0</td>\n",
       "      <td>2020-05-15</td>\n",
       "      <td>1.0</td>\n",
       "      <td>NaN</td>\n",
       "      <td>NaN</td>\n",
       "    </tr>\n",
       "    <tr>\n",
       "      <th>338</th>\n",
       "      <td>fc833a2815fa010d53b0047244438d9d</td>\n",
       "      <td>2020-05-17 03:06:53.984</td>\n",
       "      <td>1250</td>\n",
       "      <td>0.0</td>\n",
       "      <td>0.0</td>\n",
       "      <td>Statistical Learning Theory</td>\n",
       "      <td>Байесовские методы машинного обучения</td>\n",
       "      <td>Моделирование временных рядов</td>\n",
       "      <td>Символьные вычисления</td>\n",
       "      <td>Компьютерное зрение</td>\n",
       "      <td>Конфликты и кооперация</td>\n",
       "      <td>0.144928</td>\n",
       "      <td>173.0</td>\n",
       "      <td>Введение в дифференциальную геометрию</td>\n",
       "      <td>0.0</td>\n",
       "      <td>2020-05-17</td>\n",
       "      <td>2.0</td>\n",
       "      <td>NaN</td>\n",
       "      <td>NaN</td>\n",
       "    </tr>\n",
       "    <tr>\n",
       "      <th>308</th>\n",
       "      <td>e86ac9984ebea336a2a71b6bd9929702</td>\n",
       "      <td>2020-05-16 13:41:15.484</td>\n",
       "      <td>1240</td>\n",
       "      <td>0.0</td>\n",
       "      <td>0.0</td>\n",
       "      <td>Statistical Learning Theory</td>\n",
       "      <td>Байесовские методы машинного обучения</td>\n",
       "      <td>Высокопроизводительные вычисления</td>\n",
       "      <td>Символьные вычисления</td>\n",
       "      <td>Компьютерное зрение</td>\n",
       "      <td>Проектирование и разработка высоконагруженных ...</td>\n",
       "      <td>0.173913</td>\n",
       "      <td>173.0</td>\n",
       "      <td>Введение в дифференциальную геометрию</td>\n",
       "      <td>0.0</td>\n",
       "      <td>2020-05-16</td>\n",
       "      <td>2.0</td>\n",
       "      <td>NaN</td>\n",
       "      <td>NaN</td>\n",
       "    </tr>\n",
       "    <tr>\n",
       "      <th>85</th>\n",
       "      <td>4ab8340cfb08da86c14a2cc3c3fad908</td>\n",
       "      <td>2020-05-18 23:43:04.866</td>\n",
       "      <td>683</td>\n",
       "      <td>182.0</td>\n",
       "      <td>0.0</td>\n",
       "      <td>Statistical Learning Theory</td>\n",
       "      <td>Безопасность компьютерных систем</td>\n",
       "      <td>Язык SQL</td>\n",
       "      <td>Дискретная оптимизация</td>\n",
       "      <td>Промышленное программирование на языке Java</td>\n",
       "      <td>Анализ данных в бизнесе</td>\n",
       "      <td>0.255605</td>\n",
       "      <td>0.0</td>\n",
       "      <td></td>\n",
       "      <td>1.0</td>\n",
       "      <td>2020-05-18</td>\n",
       "      <td>1.0</td>\n",
       "      <td>NaN</td>\n",
       "      <td>NaN</td>\n",
       "    </tr>\n",
       "    <tr>\n",
       "      <th>178</th>\n",
       "      <td>8cc921fb155319d983cf72e9a6e8caa8</td>\n",
       "      <td>2020-05-18 17:26:18.170</td>\n",
       "      <td>1201</td>\n",
       "      <td>0.0</td>\n",
       "      <td>0.0</td>\n",
       "      <td>Statistical Learning Theory</td>\n",
       "      <td>Высокопроизводительные вычисления</td>\n",
       "      <td>Байесовские методы машинного обучения</td>\n",
       "      <td>Проектирование и разработка высоконагруженных ...</td>\n",
       "      <td>Методы сжатия и передачи медиаданных</td>\n",
       "      <td>Символьные вычисления</td>\n",
       "      <td>0.326087</td>\n",
       "      <td>173.0</td>\n",
       "      <td>Введение в дифференциальную геометрию</td>\n",
       "      <td>0.0</td>\n",
       "      <td>2020-05-18</td>\n",
       "      <td>2.0</td>\n",
       "      <td>NaN</td>\n",
       "      <td>NaN</td>\n",
       "    </tr>\n",
       "    <tr>\n",
       "      <th>160</th>\n",
       "      <td>80a0660d40d5e2f3e3b9bb8a4383db74</td>\n",
       "      <td>2020-05-15 16:53:27.904</td>\n",
       "      <td>662</td>\n",
       "      <td>183.0</td>\n",
       "      <td>0.0</td>\n",
       "      <td>Statistical Learning Theory</td>\n",
       "      <td>Матричные вычисления</td>\n",
       "      <td>Моделирование временных рядов</td>\n",
       "      <td>Анализ данных в бизнесе</td>\n",
       "      <td>Дискретная оптимизация</td>\n",
       "      <td>Системы баз данных</td>\n",
       "      <td>0.354260</td>\n",
       "      <td>0.0</td>\n",
       "      <td></td>\n",
       "      <td>1.0</td>\n",
       "      <td>2020-05-15</td>\n",
       "      <td>1.0</td>\n",
       "      <td>NaN</td>\n",
       "      <td>NaN</td>\n",
       "    </tr>\n",
       "    <tr>\n",
       "      <th>322</th>\n",
       "      <td>f36d508e6129c7b248cc707b71c2a551</td>\n",
       "      <td>2020-05-18 15:11:26.093</td>\n",
       "      <td>1184</td>\n",
       "      <td>0.0</td>\n",
       "      <td>0.0</td>\n",
       "      <td>Statistical Learning Theory</td>\n",
       "      <td>Сбор и обработка данных с помощью краудсорсинга</td>\n",
       "      <td>Байесовские методы машинного обучения</td>\n",
       "      <td>Компьютерное зрение</td>\n",
       "      <td>Генеративные модели в машинном обучении</td>\n",
       "      <td>Численные методы</td>\n",
       "      <td>0.391304</td>\n",
       "      <td>171.0</td>\n",
       "      <td>Соревновательный анализ данных</td>\n",
       "      <td>0.0</td>\n",
       "      <td>2020-05-18</td>\n",
       "      <td>2.0</td>\n",
       "      <td>NaN</td>\n",
       "      <td>NaN</td>\n",
       "    </tr>\n",
       "    <tr>\n",
       "      <th>190</th>\n",
       "      <td>9808df02cd92ed45df39e6bc748f3179</td>\n",
       "      <td>2020-05-17 10:27:38.042</td>\n",
       "      <td>645</td>\n",
       "      <td>187.0</td>\n",
       "      <td>0.0</td>\n",
       "      <td>Statistical Learning Theory</td>\n",
       "      <td>Моделирование временных рядов</td>\n",
       "      <td>Высокопроизводительные вычисления</td>\n",
       "      <td>Машинное обучение 2</td>\n",
       "      <td>Системы баз данных</td>\n",
       "      <td>Компьютерные сети</td>\n",
       "      <td>0.434978</td>\n",
       "      <td>0.0</td>\n",
       "      <td></td>\n",
       "      <td>0.0</td>\n",
       "      <td>2020-05-17</td>\n",
       "      <td>1.0</td>\n",
       "      <td>NaN</td>\n",
       "      <td>NaN</td>\n",
       "    </tr>\n",
       "    <tr>\n",
       "      <th>128</th>\n",
       "      <td>6b3d72def53597696afb19faed1f8365</td>\n",
       "      <td>2020-05-18 17:53:08.611</td>\n",
       "      <td>641</td>\n",
       "      <td>187.0</td>\n",
       "      <td>0.0</td>\n",
       "      <td>Statistical Learning Theory</td>\n",
       "      <td>Матричные вычисления</td>\n",
       "      <td>Моделирование временных рядов</td>\n",
       "      <td>Дискретная оптимизация</td>\n",
       "      <td>Численные методы</td>\n",
       "      <td>Машинное обучение 2</td>\n",
       "      <td>0.452915</td>\n",
       "      <td>0.0</td>\n",
       "      <td></td>\n",
       "      <td>0.0</td>\n",
       "      <td>2020-05-18</td>\n",
       "      <td>1.0</td>\n",
       "      <td>NaN</td>\n",
       "      <td>NaN</td>\n",
       "    </tr>\n",
       "    <tr>\n",
       "      <th>40</th>\n",
       "      <td>2662600c2c37e11e62f6ee0b88452f22</td>\n",
       "      <td>2020-05-16 21:11:40.100</td>\n",
       "      <td>627</td>\n",
       "      <td>182.0</td>\n",
       "      <td>1.0</td>\n",
       "      <td>Statistical Learning Theory</td>\n",
       "      <td>Сбор и обработка данных с помощью краудсорсинга</td>\n",
       "      <td>Принятие решений в условиях риска и неопределё...</td>\n",
       "      <td>Машинное обучение 2</td>\n",
       "      <td>Промышленное программирование на языке Java</td>\n",
       "      <td>Дополнительные главы прикладной статистики</td>\n",
       "      <td>0.520179</td>\n",
       "      <td>0.0</td>\n",
       "      <td></td>\n",
       "      <td>0.0</td>\n",
       "      <td>2020-05-16</td>\n",
       "      <td>2.0</td>\n",
       "      <td>NaN</td>\n",
       "      <td>NaN</td>\n",
       "    </tr>\n",
       "    <tr>\n",
       "      <th>29</th>\n",
       "      <td>1da702d51a0a1829bb1bc33011aec5f0</td>\n",
       "      <td>2020-05-18 17:29:43.114</td>\n",
       "      <td>1148</td>\n",
       "      <td>0.0</td>\n",
       "      <td>0.0</td>\n",
       "      <td>Statistical Learning Theory</td>\n",
       "      <td>Байесовские методы машинного обучения</td>\n",
       "      <td>Безопасность компьютерных систем</td>\n",
       "      <td>Проектирование и разработка высоконагруженных ...</td>\n",
       "      <td>Компьютерное зрение</td>\n",
       "      <td>Символьные вычисления</td>\n",
       "      <td>0.521739</td>\n",
       "      <td>173.0</td>\n",
       "      <td>Введение в дифференциальную геометрию</td>\n",
       "      <td>0.0</td>\n",
       "      <td>2020-05-18</td>\n",
       "      <td>2.0</td>\n",
       "      <td>NaN</td>\n",
       "      <td>NaN</td>\n",
       "    </tr>\n",
       "    <tr>\n",
       "      <th>176</th>\n",
       "      <td>8c191b9ac692c190f54e66167b0adc3e</td>\n",
       "      <td>2020-05-18 19:34:58.494</td>\n",
       "      <td>620</td>\n",
       "      <td>184.0</td>\n",
       "      <td>0.0</td>\n",
       "      <td>Statistical Learning Theory</td>\n",
       "      <td>Язык SQL</td>\n",
       "      <td>Принятие решений в условиях риска и неопределё...</td>\n",
       "      <td>Анализ данных в бизнесе</td>\n",
       "      <td>Дискретная оптимизация</td>\n",
       "      <td>Численные методы</td>\n",
       "      <td>0.556054</td>\n",
       "      <td>0.0</td>\n",
       "      <td></td>\n",
       "      <td>0.0</td>\n",
       "      <td>2020-05-18</td>\n",
       "      <td>1.0</td>\n",
       "      <td>NaN</td>\n",
       "      <td>NaN</td>\n",
       "    </tr>\n",
       "    <tr>\n",
       "      <th>93</th>\n",
       "      <td>573e2218c3fe3ffc1894edc12432d315</td>\n",
       "      <td>2020-05-18 20:00:36.456</td>\n",
       "      <td>1131</td>\n",
       "      <td>0.0</td>\n",
       "      <td>0.0</td>\n",
       "      <td>Statistical Learning Theory</td>\n",
       "      <td>Анализ неструктурированных данных</td>\n",
       "      <td>Сбор и обработка данных с помощью краудсорсинга</td>\n",
       "      <td>Обучение с подкреплением</td>\n",
       "      <td>Конфликты и кооперация</td>\n",
       "      <td>Компьютерное зрение</td>\n",
       "      <td>0.586957</td>\n",
       "      <td>172.0</td>\n",
       "      <td>DevOps</td>\n",
       "      <td>0.0</td>\n",
       "      <td>2020-05-18</td>\n",
       "      <td>2.0</td>\n",
       "      <td>NaN</td>\n",
       "      <td>NaN</td>\n",
       "    </tr>\n",
       "    <tr>\n",
       "      <th>69</th>\n",
       "      <td>3da8ee30604398faa671135cebe8f982</td>\n",
       "      <td>2020-05-18 18:52:16.361</td>\n",
       "      <td>1124</td>\n",
       "      <td>0.0</td>\n",
       "      <td>0.0</td>\n",
       "      <td>Statistical Learning Theory</td>\n",
       "      <td>Анализ неструктурированных данных</td>\n",
       "      <td>Сбор и обработка данных с помощью краудсорсинга</td>\n",
       "      <td>Обучение с подкреплением</td>\n",
       "      <td>Конфликты и кооперация</td>\n",
       "      <td>Компьютерное зрение</td>\n",
       "      <td>0.615942</td>\n",
       "      <td>174.0</td>\n",
       "      <td>Соревновательный анализ данных</td>\n",
       "      <td>0.0</td>\n",
       "      <td>2020-05-18</td>\n",
       "      <td>1.0</td>\n",
       "      <td>NaN</td>\n",
       "      <td>NaN</td>\n",
       "    </tr>\n",
       "    <tr>\n",
       "      <th>113</th>\n",
       "      <td>6256514074c4680d1b14e4f2a863fd78</td>\n",
       "      <td>2020-05-18 18:06:29.107</td>\n",
       "      <td>596</td>\n",
       "      <td>184.0</td>\n",
       "      <td>0.0</td>\n",
       "      <td>Statistical Learning Theory</td>\n",
       "      <td>Язык SQL</td>\n",
       "      <td>Сбор и обработка данных с помощью краудсорсинга</td>\n",
       "      <td>Анализ данных в бизнесе</td>\n",
       "      <td>Численные методы</td>\n",
       "      <td>Дополнительные главы прикладной статистики</td>\n",
       "      <td>0.668161</td>\n",
       "      <td>0.0</td>\n",
       "      <td></td>\n",
       "      <td>0.0</td>\n",
       "      <td>2020-05-18</td>\n",
       "      <td>1.0</td>\n",
       "      <td>NaN</td>\n",
       "      <td>NaN</td>\n",
       "    </tr>\n",
       "    <tr>\n",
       "      <th>264</th>\n",
       "      <td>ce2a9120d5581dcd8bd0d6252918c9ec</td>\n",
       "      <td>2020-05-18 11:19:43.926</td>\n",
       "      <td>1100</td>\n",
       "      <td>0.0</td>\n",
       "      <td>0.0</td>\n",
       "      <td>Statistical Learning Theory</td>\n",
       "      <td>Моделирование временных рядов</td>\n",
       "      <td>Глубинное обучение в обработке звука</td>\n",
       "      <td>Компьютерное зрение</td>\n",
       "      <td>Символьные вычисления</td>\n",
       "      <td>Методы сжатия и передачи медиаданных</td>\n",
       "      <td>0.702899</td>\n",
       "      <td>173.0</td>\n",
       "      <td>Соревновательный анализ данных</td>\n",
       "      <td>0.0</td>\n",
       "      <td>2020-05-18</td>\n",
       "      <td>2.0</td>\n",
       "      <td>NaN</td>\n",
       "      <td>NaN</td>\n",
       "    </tr>\n",
       "    <tr>\n",
       "      <th>173</th>\n",
       "      <td>88ae08d9db8d34b267780ed642d0d2db</td>\n",
       "      <td>2020-05-18 18:29:57.440</td>\n",
       "      <td>581</td>\n",
       "      <td>188.0</td>\n",
       "      <td>0.0</td>\n",
       "      <td>Statistical Learning Theory</td>\n",
       "      <td>Матричные вычисления</td>\n",
       "      <td>Теория баз данных</td>\n",
       "      <td>Дискретная оптимизация</td>\n",
       "      <td>Численные методы</td>\n",
       "      <td>Промышленное программирование на языке Java</td>\n",
       "      <td>0.735426</td>\n",
       "      <td>0.0</td>\n",
       "      <td></td>\n",
       "      <td>0.0</td>\n",
       "      <td>2020-05-18</td>\n",
       "      <td>1.0</td>\n",
       "      <td>NaN</td>\n",
       "      <td>NaN</td>\n",
       "    </tr>\n",
       "    <tr>\n",
       "      <th>19</th>\n",
       "      <td>1528f0eaa027580820ccf0d92a53ad68</td>\n",
       "      <td>2020-05-15 04:43:08.994</td>\n",
       "      <td>579</td>\n",
       "      <td>182.0</td>\n",
       "      <td>0.0</td>\n",
       "      <td>Statistical Learning Theory</td>\n",
       "      <td>Высокопроизводительные вычисления</td>\n",
       "      <td>Матричные вычисления</td>\n",
       "      <td>Дискретная оптимизация</td>\n",
       "      <td>Численные методы</td>\n",
       "      <td>Машинное обучение 2</td>\n",
       "      <td>0.744395</td>\n",
       "      <td>0.0</td>\n",
       "      <td></td>\n",
       "      <td>0.0</td>\n",
       "      <td>2020-05-15</td>\n",
       "      <td>1.0</td>\n",
       "      <td>NaN</td>\n",
       "      <td>NaN</td>\n",
       "    </tr>\n",
       "    <tr>\n",
       "      <th>341</th>\n",
       "      <td>fe631bea98b075dd781e11df3987533b</td>\n",
       "      <td>2020-05-18 18:14:38.722</td>\n",
       "      <td>1085</td>\n",
       "      <td>0.0</td>\n",
       "      <td>0.0</td>\n",
       "      <td>Statistical Learning Theory</td>\n",
       "      <td>Моделирование временных рядов</td>\n",
       "      <td>Высокопроизводительные вычисления</td>\n",
       "      <td>Символьные вычисления</td>\n",
       "      <td>Конфликты и кооперация</td>\n",
       "      <td>Численные методы</td>\n",
       "      <td>0.775362</td>\n",
       "      <td>173.0</td>\n",
       "      <td>Введение в дифференциальную геометрию</td>\n",
       "      <td>0.0</td>\n",
       "      <td>2020-05-18</td>\n",
       "      <td>2.0</td>\n",
       "      <td>NaN</td>\n",
       "      <td>NaN</td>\n",
       "    </tr>\n",
       "    <tr>\n",
       "      <th>17</th>\n",
       "      <td>1386d00c9c8229c2be3c0956949ee122</td>\n",
       "      <td>2020-05-19 01:15:42.891</td>\n",
       "      <td>545</td>\n",
       "      <td>181.0</td>\n",
       "      <td>0.0</td>\n",
       "      <td>Statistical Learning Theory</td>\n",
       "      <td>Моделирование временных рядов</td>\n",
       "      <td>Сбор и обработка данных с помощью краудсорсинга</td>\n",
       "      <td>Машинное обучение 2</td>\n",
       "      <td>Дискретная оптимизация</td>\n",
       "      <td>Численные методы</td>\n",
       "      <td>0.887892</td>\n",
       "      <td>0.0</td>\n",
       "      <td></td>\n",
       "      <td>0.0</td>\n",
       "      <td>2020-05-19</td>\n",
       "      <td>1.0</td>\n",
       "      <td>NaN</td>\n",
       "      <td>NaN</td>\n",
       "    </tr>\n",
       "    <tr>\n",
       "      <th>250</th>\n",
       "      <td>c5870b37ee3f672e4259dfb2fc02ed8f</td>\n",
       "      <td>2020-05-19 19:04:17.873</td>\n",
       "      <td>1029</td>\n",
       "      <td>0.0</td>\n",
       "      <td>0.0</td>\n",
       "      <td>Statistical Learning Theory</td>\n",
       "      <td>Анализ неструктурированных данных</td>\n",
       "      <td>Сбор и обработка данных с помощью краудсорсинга</td>\n",
       "      <td>Обучение с подкреплением</td>\n",
       "      <td>Конфликты и кооперация</td>\n",
       "      <td>Компьютерное зрение</td>\n",
       "      <td>0.920290</td>\n",
       "      <td>174.0</td>\n",
       "      <td>DevOps</td>\n",
       "      <td>0.0</td>\n",
       "      <td>2020-05-19</td>\n",
       "      <td>1.0</td>\n",
       "      <td>NaN</td>\n",
       "      <td>NaN</td>\n",
       "    </tr>\n",
       "    <tr>\n",
       "      <th>217</th>\n",
       "      <td>af20596134e83f3ca61259b325aa9688</td>\n",
       "      <td>2020-05-15 19:44:33.132</td>\n",
       "      <td>519</td>\n",
       "      <td>182.0</td>\n",
       "      <td>0.0</td>\n",
       "      <td>Statistical Learning Theory</td>\n",
       "      <td>Сбор и обработка данных с помощью краудсорсинга</td>\n",
       "      <td>Высокопроизводительные вычисления</td>\n",
       "      <td>Машинное обучение 2</td>\n",
       "      <td>Дополнительные главы прикладной статистики</td>\n",
       "      <td>Анализ данных в бизнесе</td>\n",
       "      <td>0.973094</td>\n",
       "      <td>0.0</td>\n",
       "      <td></td>\n",
       "      <td>0.0</td>\n",
       "      <td>2020-05-15</td>\n",
       "      <td>1.0</td>\n",
       "      <td>NaN</td>\n",
       "      <td>NaN</td>\n",
       "    </tr>\n",
       "    <tr>\n",
       "      <th>220</th>\n",
       "      <td>b3cbd3541c0cf66ff4eb2bc1596bb149</td>\n",
       "      <td>2020-05-17 11:31:43.285</td>\n",
       "      <td>1333</td>\n",
       "      <td>0.0</td>\n",
       "      <td>0.0</td>\n",
       "      <td>Байесовские методы машинного обучения</td>\n",
       "      <td>Statistical Learning Theory</td>\n",
       "      <td>Моделирование временных рядов</td>\n",
       "      <td>Символьные вычисления</td>\n",
       "      <td>Обучение с подкреплением</td>\n",
       "      <td>Генеративные модели в машинном обучении</td>\n",
       "      <td>0.021739</td>\n",
       "      <td>173.0</td>\n",
       "      <td>Соревновательный анализ данных</td>\n",
       "      <td>0.0</td>\n",
       "      <td>2020-05-17</td>\n",
       "      <td>2.0</td>\n",
       "      <td>NaN</td>\n",
       "      <td>NaN</td>\n",
       "    </tr>\n",
       "    <tr>\n",
       "      <th>89</th>\n",
       "      <td>4df9699d2022802f80b3e6426d6976d7</td>\n",
       "      <td>2020-05-18 13:24:26.832</td>\n",
       "      <td>1276</td>\n",
       "      <td>0.0</td>\n",
       "      <td>0.0</td>\n",
       "      <td>Безопасность компьютерных систем</td>\n",
       "      <td>Statistical Learning Theory</td>\n",
       "      <td>Моделирование временных рядов</td>\n",
       "      <td>Компьютерное зрение</td>\n",
       "      <td>Проектирование и разработка высоконагруженных ...</td>\n",
       "      <td>Методы сжатия и передачи медиаданных</td>\n",
       "      <td>0.108696</td>\n",
       "      <td>173.0</td>\n",
       "      <td>Введение в дифференциальную геометрию</td>\n",
       "      <td>0.0</td>\n",
       "      <td>2020-05-18</td>\n",
       "      <td>2.0</td>\n",
       "      <td>NaN</td>\n",
       "      <td>NaN</td>\n",
       "    </tr>\n",
       "    <tr>\n",
       "      <th>102</th>\n",
       "      <td>5a9b8ac11ad05b39a58b0e04a263bf4c</td>\n",
       "      <td>2020-05-14 21:03:02.916</td>\n",
       "      <td>1170</td>\n",
       "      <td>0.0</td>\n",
       "      <td>0.0</td>\n",
       "      <td>Глубинное обучение в обработке звука</td>\n",
       "      <td>Statistical Learning Theory</td>\n",
       "      <td>Сбор и обработка данных с помощью краудсорсинга</td>\n",
       "      <td>Конфликты и кооперация</td>\n",
       "      <td>Обучение с подкреплением</td>\n",
       "      <td>Генеративные модели в машинном обучении</td>\n",
       "      <td>0.442029</td>\n",
       "      <td>171.0</td>\n",
       "      <td>DevOps</td>\n",
       "      <td>0.0</td>\n",
       "      <td>2020-05-14</td>\n",
       "      <td>2.0</td>\n",
       "      <td>NaN</td>\n",
       "      <td>NaN</td>\n",
       "    </tr>\n",
       "    <tr>\n",
       "      <th>345</th>\n",
       "      <td>ffc04c64d068f8d85e4dc44e7f297ecc</td>\n",
       "      <td>2020-05-18 21:00:45.274</td>\n",
       "      <td>1163</td>\n",
       "      <td>0.0</td>\n",
       "      <td>0.0</td>\n",
       "      <td>Байесовские методы машинного обучения</td>\n",
       "      <td>Statistical Learning Theory</td>\n",
       "      <td>Глубинное обучение в обработке звука</td>\n",
       "      <td>Обучение с подкреплением</td>\n",
       "      <td>Генеративные модели в машинном обучении</td>\n",
       "      <td>Компьютерное зрение</td>\n",
       "      <td>0.471014</td>\n",
       "      <td>171.0</td>\n",
       "      <td>Соревновательный анализ данных</td>\n",
       "      <td>0.0</td>\n",
       "      <td>2020-05-18</td>\n",
       "      <td>2.0</td>\n",
       "      <td>NaN</td>\n",
       "      <td>NaN</td>\n",
       "    </tr>\n",
       "    <tr>\n",
       "      <th>256</th>\n",
       "      <td>c93289511bf5625a199d4ae9b889a06a</td>\n",
       "      <td>2020-05-17 23:01:57.047</td>\n",
       "      <td>1159</td>\n",
       "      <td>0.0</td>\n",
       "      <td>0.0</td>\n",
       "      <td>Байесовские методы машинного обучения</td>\n",
       "      <td>Statistical Learning Theory</td>\n",
       "      <td>Сбор и обработка данных с помощью краудсорсинга</td>\n",
       "      <td>Обучение с подкреплением</td>\n",
       "      <td>Компьютерное зрение</td>\n",
       "      <td>Численные методы</td>\n",
       "      <td>0.492754</td>\n",
       "      <td>171.0</td>\n",
       "      <td>Соревновательный анализ данных</td>\n",
       "      <td>0.0</td>\n",
       "      <td>2020-05-17</td>\n",
       "      <td>2.0</td>\n",
       "      <td>NaN</td>\n",
       "      <td>NaN</td>\n",
       "    </tr>\n",
       "    <tr>\n",
       "      <th>43</th>\n",
       "      <td>276e2ccf4903d4ddf856b20a2b08394e</td>\n",
       "      <td>2020-05-14 23:33:26.537</td>\n",
       "      <td>1123</td>\n",
       "      <td>0.0</td>\n",
       "      <td>0.0</td>\n",
       "      <td>Байесовские методы машинного обучения</td>\n",
       "      <td>Statistical Learning Theory</td>\n",
       "      <td>Глубинное обучение в обработке звука</td>\n",
       "      <td>Конфликты и кооперация</td>\n",
       "      <td>Обучение с подкреплением</td>\n",
       "      <td>Символьные вычисления</td>\n",
       "      <td>0.623188</td>\n",
       "      <td>173.0</td>\n",
       "      <td>Введение в дифференциальную геометрию</td>\n",
       "      <td>0.0</td>\n",
       "      <td>2020-05-14</td>\n",
       "      <td>2.0</td>\n",
       "      <td>NaN</td>\n",
       "      <td>NaN</td>\n",
       "    </tr>\n",
       "    <tr>\n",
       "      <th>282</th>\n",
       "      <td>d7118b44c7e8fdbbaaca226d2da6fef1</td>\n",
       "      <td>2020-05-20 11:54:38.318</td>\n",
       "      <td>1111</td>\n",
       "      <td>0.0</td>\n",
       "      <td>0.0</td>\n",
       "      <td>Сбор и обработка данных с помощью краудсорсинга</td>\n",
       "      <td>Statistical Learning Theory</td>\n",
       "      <td>Анализ неструктурированных данных</td>\n",
       "      <td>Проектирование и разработка высоконагруженных ...</td>\n",
       "      <td>Методы сжатия и передачи медиаданных</td>\n",
       "      <td>Численные методы</td>\n",
       "      <td>0.652174</td>\n",
       "      <td>173.0</td>\n",
       "      <td>Соревновательный анализ данных</td>\n",
       "      <td>0.0</td>\n",
       "      <td>2020-05-20</td>\n",
       "      <td>2.0</td>\n",
       "      <td>NaN</td>\n",
       "      <td>NaN</td>\n",
       "    </tr>\n",
       "    <tr>\n",
       "      <th>230</th>\n",
       "      <td>b75b5f8abebf7faf4adbb6247d6d03bb</td>\n",
       "      <td>2020-05-18 23:47:37.254</td>\n",
       "      <td>590</td>\n",
       "      <td>184.0</td>\n",
       "      <td>1.0</td>\n",
       "      <td>Безопасность компьютерных систем</td>\n",
       "      <td>Statistical Learning Theory</td>\n",
       "      <td>Сбор и обработка данных с помощью краудсорсинга</td>\n",
       "      <td>Анализ данных в бизнесе</td>\n",
       "      <td>Компьютерные сети</td>\n",
       "      <td>Машинное обучение 2</td>\n",
       "      <td>0.695067</td>\n",
       "      <td>0.0</td>\n",
       "      <td></td>\n",
       "      <td>0.0</td>\n",
       "      <td>2020-05-18</td>\n",
       "      <td>2.0</td>\n",
       "      <td>NaN</td>\n",
       "      <td>NaN</td>\n",
       "    </tr>\n",
       "  </tbody>\n",
       "</table>\n",
       "</div>"
      ],
      "text/plain": [
       "                                   id               timestamp  rating  \\\n",
       "66   3a7326c9e355a67d3805824ca34c4bc5 2020-05-14 21:52:43.844    1457   \n",
       "136  723d5f32b699c971b4095a017c883ffa 2020-05-18 21:59:48.193     759   \n",
       "33   1f63fc485d851236249263b91dc03d6b 2020-05-18 18:17:59.748     756   \n",
       "303  e4caca755ee0bdd711e18fb8084958b5 2020-05-15 11:42:16.910     724   \n",
       "338  fc833a2815fa010d53b0047244438d9d 2020-05-17 03:06:53.984    1250   \n",
       "308  e86ac9984ebea336a2a71b6bd9929702 2020-05-16 13:41:15.484    1240   \n",
       "85   4ab8340cfb08da86c14a2cc3c3fad908 2020-05-18 23:43:04.866     683   \n",
       "178  8cc921fb155319d983cf72e9a6e8caa8 2020-05-18 17:26:18.170    1201   \n",
       "160  80a0660d40d5e2f3e3b9bb8a4383db74 2020-05-15 16:53:27.904     662   \n",
       "322  f36d508e6129c7b248cc707b71c2a551 2020-05-18 15:11:26.093    1184   \n",
       "190  9808df02cd92ed45df39e6bc748f3179 2020-05-17 10:27:38.042     645   \n",
       "128  6b3d72def53597696afb19faed1f8365 2020-05-18 17:53:08.611     641   \n",
       "40   2662600c2c37e11e62f6ee0b88452f22 2020-05-16 21:11:40.100     627   \n",
       "29   1da702d51a0a1829bb1bc33011aec5f0 2020-05-18 17:29:43.114    1148   \n",
       "176  8c191b9ac692c190f54e66167b0adc3e 2020-05-18 19:34:58.494     620   \n",
       "93   573e2218c3fe3ffc1894edc12432d315 2020-05-18 20:00:36.456    1131   \n",
       "69   3da8ee30604398faa671135cebe8f982 2020-05-18 18:52:16.361    1124   \n",
       "113  6256514074c4680d1b14e4f2a863fd78 2020-05-18 18:06:29.107     596   \n",
       "264  ce2a9120d5581dcd8bd0d6252918c9ec 2020-05-18 11:19:43.926    1100   \n",
       "173  88ae08d9db8d34b267780ed642d0d2db 2020-05-18 18:29:57.440     581   \n",
       "19   1528f0eaa027580820ccf0d92a53ad68 2020-05-15 04:43:08.994     579   \n",
       "341  fe631bea98b075dd781e11df3987533b 2020-05-18 18:14:38.722    1085   \n",
       "17   1386d00c9c8229c2be3c0956949ee122 2020-05-19 01:15:42.891     545   \n",
       "250  c5870b37ee3f672e4259dfb2fc02ed8f 2020-05-19 19:04:17.873    1029   \n",
       "217  af20596134e83f3ca61259b325aa9688 2020-05-15 19:44:33.132     519   \n",
       "220  b3cbd3541c0cf66ff4eb2bc1596bb149 2020-05-17 11:31:43.285    1333   \n",
       "89   4df9699d2022802f80b3e6426d6976d7 2020-05-18 13:24:26.832    1276   \n",
       "102  5a9b8ac11ad05b39a58b0e04a263bf4c 2020-05-14 21:03:02.916    1170   \n",
       "345  ffc04c64d068f8d85e4dc44e7f297ecc 2020-05-18 21:00:45.274    1163   \n",
       "256  c93289511bf5625a199d4ae9b889a06a 2020-05-17 23:01:57.047    1159   \n",
       "43   276e2ccf4903d4ddf856b20a2b08394e 2020-05-14 23:33:26.537    1123   \n",
       "282  d7118b44c7e8fdbbaaca226d2da6fef1 2020-05-20 11:54:38.318    1111   \n",
       "230  b75b5f8abebf7faf4adbb6247d6d03bb 2020-05-18 23:47:37.254     590   \n",
       "\n",
       "     18_group  is_mi                                           fall_1  \\\n",
       "66        0.0    0.0                      Statistical Learning Theory   \n",
       "136     184.0    0.0                      Statistical Learning Theory   \n",
       "33      181.0    0.0                      Statistical Learning Theory   \n",
       "303     181.0    0.0                      Statistical Learning Theory   \n",
       "338       0.0    0.0                      Statistical Learning Theory   \n",
       "308       0.0    0.0                      Statistical Learning Theory   \n",
       "85      182.0    0.0                      Statistical Learning Theory   \n",
       "178       0.0    0.0                      Statistical Learning Theory   \n",
       "160     183.0    0.0                      Statistical Learning Theory   \n",
       "322       0.0    0.0                      Statistical Learning Theory   \n",
       "190     187.0    0.0                      Statistical Learning Theory   \n",
       "128     187.0    0.0                      Statistical Learning Theory   \n",
       "40      182.0    1.0                      Statistical Learning Theory   \n",
       "29        0.0    0.0                      Statistical Learning Theory   \n",
       "176     184.0    0.0                      Statistical Learning Theory   \n",
       "93        0.0    0.0                      Statistical Learning Theory   \n",
       "69        0.0    0.0                      Statistical Learning Theory   \n",
       "113     184.0    0.0                      Statistical Learning Theory   \n",
       "264       0.0    0.0                      Statistical Learning Theory   \n",
       "173     188.0    0.0                      Statistical Learning Theory   \n",
       "19      182.0    0.0                      Statistical Learning Theory   \n",
       "341       0.0    0.0                      Statistical Learning Theory   \n",
       "17      181.0    0.0                      Statistical Learning Theory   \n",
       "250       0.0    0.0                      Statistical Learning Theory   \n",
       "217     182.0    0.0                      Statistical Learning Theory   \n",
       "220       0.0    0.0            Байесовские методы машинного обучения   \n",
       "89        0.0    0.0                 Безопасность компьютерных систем   \n",
       "102       0.0    0.0             Глубинное обучение в обработке звука   \n",
       "345       0.0    0.0            Байесовские методы машинного обучения   \n",
       "256       0.0    0.0            Байесовские методы машинного обучения   \n",
       "43        0.0    0.0            Байесовские методы машинного обучения   \n",
       "282       0.0    0.0  Сбор и обработка данных с помощью краудсорсинга   \n",
       "230     184.0    1.0                 Безопасность компьютерных систем   \n",
       "\n",
       "                                              fall_2  \\\n",
       "66                 Высокопроизводительные вычисления   \n",
       "136                 Безопасность компьютерных систем   \n",
       "33                              Матричные вычисления   \n",
       "303                 Безопасность компьютерных систем   \n",
       "338            Байесовские методы машинного обучения   \n",
       "308            Байесовские методы машинного обучения   \n",
       "85                  Безопасность компьютерных систем   \n",
       "178                Высокопроизводительные вычисления   \n",
       "160                             Матричные вычисления   \n",
       "322  Сбор и обработка данных с помощью краудсорсинга   \n",
       "190                    Моделирование временных рядов   \n",
       "128                             Матричные вычисления   \n",
       "40   Сбор и обработка данных с помощью краудсорсинга   \n",
       "29             Байесовские методы машинного обучения   \n",
       "176                                         Язык SQL   \n",
       "93                 Анализ неструктурированных данных   \n",
       "69                 Анализ неструктурированных данных   \n",
       "113                                         Язык SQL   \n",
       "264                    Моделирование временных рядов   \n",
       "173                             Матричные вычисления   \n",
       "19                 Высокопроизводительные вычисления   \n",
       "341                    Моделирование временных рядов   \n",
       "17                     Моделирование временных рядов   \n",
       "250                Анализ неструктурированных данных   \n",
       "217  Сбор и обработка данных с помощью краудсорсинга   \n",
       "220                      Statistical Learning Theory   \n",
       "89                       Statistical Learning Theory   \n",
       "102                      Statistical Learning Theory   \n",
       "345                      Statistical Learning Theory   \n",
       "256                      Statistical Learning Theory   \n",
       "43                       Statistical Learning Theory   \n",
       "282                      Statistical Learning Theory   \n",
       "230                      Statistical Learning Theory   \n",
       "\n",
       "                                                fall_3  \\\n",
       "66                         Statistical Learning Theory   \n",
       "136                               Матричные вычисления   \n",
       "33                    Безопасность компьютерных систем   \n",
       "303                      Моделирование временных рядов   \n",
       "338                      Моделирование временных рядов   \n",
       "308                  Высокопроизводительные вычисления   \n",
       "85                                            Язык SQL   \n",
       "178              Байесовские методы машинного обучения   \n",
       "160                      Моделирование временных рядов   \n",
       "322              Байесовские методы машинного обучения   \n",
       "190                  Высокопроизводительные вычисления   \n",
       "128                      Моделирование временных рядов   \n",
       "40   Принятие решений в условиях риска и неопределё...   \n",
       "29                    Безопасность компьютерных систем   \n",
       "176  Принятие решений в условиях риска и неопределё...   \n",
       "93     Сбор и обработка данных с помощью краудсорсинга   \n",
       "69     Сбор и обработка данных с помощью краудсорсинга   \n",
       "113    Сбор и обработка данных с помощью краудсорсинга   \n",
       "264               Глубинное обучение в обработке звука   \n",
       "173                                  Теория баз данных   \n",
       "19                                Матричные вычисления   \n",
       "341                  Высокопроизводительные вычисления   \n",
       "17     Сбор и обработка данных с помощью краудсорсинга   \n",
       "250    Сбор и обработка данных с помощью краудсорсинга   \n",
       "217                  Высокопроизводительные вычисления   \n",
       "220                      Моделирование временных рядов   \n",
       "89                       Моделирование временных рядов   \n",
       "102    Сбор и обработка данных с помощью краудсорсинга   \n",
       "345               Глубинное обучение в обработке звука   \n",
       "256    Сбор и обработка данных с помощью краудсорсинга   \n",
       "43                Глубинное обучение в обработке звука   \n",
       "282                  Анализ неструктурированных данных   \n",
       "230    Сбор и обработка данных с помощью краудсорсинга   \n",
       "\n",
       "                                              spring_1  \\\n",
       "66                               Символьные вычисления   \n",
       "136         Дополнительные главы прикладной статистики   \n",
       "33                              Дискретная оптимизация   \n",
       "303                                   Численные методы   \n",
       "338                              Символьные вычисления   \n",
       "308                              Символьные вычисления   \n",
       "85                              Дискретная оптимизация   \n",
       "178  Проектирование и разработка высоконагруженных ...   \n",
       "160                            Анализ данных в бизнесе   \n",
       "322                                Компьютерное зрение   \n",
       "190                                Машинное обучение 2   \n",
       "128                             Дискретная оптимизация   \n",
       "40                                 Машинное обучение 2   \n",
       "29   Проектирование и разработка высоконагруженных ...   \n",
       "176                            Анализ данных в бизнесе   \n",
       "93                            Обучение с подкреплением   \n",
       "69                            Обучение с подкреплением   \n",
       "113                            Анализ данных в бизнесе   \n",
       "264                                Компьютерное зрение   \n",
       "173                             Дискретная оптимизация   \n",
       "19                              Дискретная оптимизация   \n",
       "341                              Символьные вычисления   \n",
       "17                                 Машинное обучение 2   \n",
       "250                           Обучение с подкреплением   \n",
       "217                                Машинное обучение 2   \n",
       "220                              Символьные вычисления   \n",
       "89                                 Компьютерное зрение   \n",
       "102                             Конфликты и кооперация   \n",
       "345                           Обучение с подкреплением   \n",
       "256                           Обучение с подкреплением   \n",
       "43                              Конфликты и кооперация   \n",
       "282  Проектирование и разработка высоконагруженных ...   \n",
       "230                            Анализ данных в бизнесе   \n",
       "\n",
       "                                              spring_2  \\\n",
       "66                                    Численные методы   \n",
       "136                             Дискретная оптимизация   \n",
       "33          Дополнительные главы прикладной статистики   \n",
       "303        Промышленное программирование на языке Java   \n",
       "338                                Компьютерное зрение   \n",
       "308                                Компьютерное зрение   \n",
       "85         Промышленное программирование на языке Java   \n",
       "178               Методы сжатия и передачи медиаданных   \n",
       "160                             Дискретная оптимизация   \n",
       "322            Генеративные модели в машинном обучении   \n",
       "190                                 Системы баз данных   \n",
       "128                                   Численные методы   \n",
       "40         Промышленное программирование на языке Java   \n",
       "29                                 Компьютерное зрение   \n",
       "176                             Дискретная оптимизация   \n",
       "93                              Конфликты и кооперация   \n",
       "69                              Конфликты и кооперация   \n",
       "113                                   Численные методы   \n",
       "264                              Символьные вычисления   \n",
       "173                                   Численные методы   \n",
       "19                                    Численные методы   \n",
       "341                             Конфликты и кооперация   \n",
       "17                              Дискретная оптимизация   \n",
       "250                             Конфликты и кооперация   \n",
       "217         Дополнительные главы прикладной статистики   \n",
       "220                           Обучение с подкреплением   \n",
       "89   Проектирование и разработка высоконагруженных ...   \n",
       "102                           Обучение с подкреплением   \n",
       "345            Генеративные модели в машинном обучении   \n",
       "256                                Компьютерное зрение   \n",
       "43                            Обучение с подкреплением   \n",
       "282               Методы сжатия и передачи медиаданных   \n",
       "230                                  Компьютерные сети   \n",
       "\n",
       "                                              spring_3  percentile  17_group  \\\n",
       "66                               Символьные вычисления    0.000000     173.0   \n",
       "136                                   Численные методы    0.017937       0.0   \n",
       "33         Промышленное программирование на языке Java    0.031390       0.0   \n",
       "303                                Машинное обучение 2    0.103139       0.0   \n",
       "338                             Конфликты и кооперация    0.144928     173.0   \n",
       "308  Проектирование и разработка высоконагруженных ...    0.173913     173.0   \n",
       "85                             Анализ данных в бизнесе    0.255605       0.0   \n",
       "178                              Символьные вычисления    0.326087     173.0   \n",
       "160                                 Системы баз данных    0.354260       0.0   \n",
       "322                                   Численные методы    0.391304     171.0   \n",
       "190                                  Компьютерные сети    0.434978       0.0   \n",
       "128                                Машинное обучение 2    0.452915       0.0   \n",
       "40          Дополнительные главы прикладной статистики    0.520179       0.0   \n",
       "29                               Символьные вычисления    0.521739     173.0   \n",
       "176                                   Численные методы    0.556054       0.0   \n",
       "93                                 Компьютерное зрение    0.586957     172.0   \n",
       "69                                 Компьютерное зрение    0.615942     174.0   \n",
       "113         Дополнительные главы прикладной статистики    0.668161       0.0   \n",
       "264               Методы сжатия и передачи медиаданных    0.702899     173.0   \n",
       "173        Промышленное программирование на языке Java    0.735426       0.0   \n",
       "19                                 Машинное обучение 2    0.744395       0.0   \n",
       "341                                   Численные методы    0.775362     173.0   \n",
       "17                                    Численные методы    0.887892       0.0   \n",
       "250                                Компьютерное зрение    0.920290     174.0   \n",
       "217                            Анализ данных в бизнесе    0.973094       0.0   \n",
       "220            Генеративные модели в машинном обучении    0.021739     173.0   \n",
       "89                Методы сжатия и передачи медиаданных    0.108696     173.0   \n",
       "102            Генеративные модели в машинном обучении    0.442029     171.0   \n",
       "345                                Компьютерное зрение    0.471014     171.0   \n",
       "256                                   Численные методы    0.492754     171.0   \n",
       "43                               Символьные вычисления    0.623188     173.0   \n",
       "282                                   Численные методы    0.652174     173.0   \n",
       "230                                Машинное обучение 2    0.695067       0.0   \n",
       "\n",
       "                                   blended  is_ml_student        date  \\\n",
       "66   Введение в дифференциальную геометрию            0.0  2020-05-14   \n",
       "136                                                   1.0  2020-05-18   \n",
       "33                                                    1.0  2020-05-18   \n",
       "303                                                   0.0  2020-05-15   \n",
       "338  Введение в дифференциальную геометрию            0.0  2020-05-17   \n",
       "308  Введение в дифференциальную геометрию            0.0  2020-05-16   \n",
       "85                                                    1.0  2020-05-18   \n",
       "178  Введение в дифференциальную геометрию            0.0  2020-05-18   \n",
       "160                                                   1.0  2020-05-15   \n",
       "322         Соревновательный анализ данных            0.0  2020-05-18   \n",
       "190                                                   0.0  2020-05-17   \n",
       "128                                                   0.0  2020-05-18   \n",
       "40                                                    0.0  2020-05-16   \n",
       "29   Введение в дифференциальную геометрию            0.0  2020-05-18   \n",
       "176                                                   0.0  2020-05-18   \n",
       "93                                  DevOps            0.0  2020-05-18   \n",
       "69          Соревновательный анализ данных            0.0  2020-05-18   \n",
       "113                                                   0.0  2020-05-18   \n",
       "264         Соревновательный анализ данных            0.0  2020-05-18   \n",
       "173                                                   0.0  2020-05-18   \n",
       "19                                                    0.0  2020-05-15   \n",
       "341  Введение в дифференциальную геометрию            0.0  2020-05-18   \n",
       "17                                                    0.0  2020-05-19   \n",
       "250                                 DevOps            0.0  2020-05-19   \n",
       "217                                                   0.0  2020-05-15   \n",
       "220         Соревновательный анализ данных            0.0  2020-05-17   \n",
       "89   Введение в дифференциальную геометрию            0.0  2020-05-18   \n",
       "102                                 DevOps            0.0  2020-05-14   \n",
       "345         Соревновательный анализ данных            0.0  2020-05-18   \n",
       "256         Соревновательный анализ данных            0.0  2020-05-17   \n",
       "43   Введение в дифференциальную геометрию            0.0  2020-05-14   \n",
       "282         Соревновательный анализ данных            0.0  2020-05-20   \n",
       "230                                                   0.0  2020-05-18   \n",
       "\n",
       "     num_fall_courses is_first_place  is_last_place  \n",
       "66                2.0           True            NaN  \n",
       "136               1.0            NaN            NaN  \n",
       "33                1.0            NaN            NaN  \n",
       "303               1.0            NaN            NaN  \n",
       "338               2.0            NaN            NaN  \n",
       "308               2.0            NaN            NaN  \n",
       "85                1.0            NaN            NaN  \n",
       "178               2.0            NaN            NaN  \n",
       "160               1.0            NaN            NaN  \n",
       "322               2.0            NaN            NaN  \n",
       "190               1.0            NaN            NaN  \n",
       "128               1.0            NaN            NaN  \n",
       "40                2.0            NaN            NaN  \n",
       "29                2.0            NaN            NaN  \n",
       "176               1.0            NaN            NaN  \n",
       "93                2.0            NaN            NaN  \n",
       "69                1.0            NaN            NaN  \n",
       "113               1.0            NaN            NaN  \n",
       "264               2.0            NaN            NaN  \n",
       "173               1.0            NaN            NaN  \n",
       "19                1.0            NaN            NaN  \n",
       "341               2.0            NaN            NaN  \n",
       "17                1.0            NaN            NaN  \n",
       "250               1.0            NaN            NaN  \n",
       "217               1.0            NaN            NaN  \n",
       "220               2.0            NaN            NaN  \n",
       "89                2.0            NaN            NaN  \n",
       "102               2.0            NaN            NaN  \n",
       "345               2.0            NaN            NaN  \n",
       "256               2.0            NaN            NaN  \n",
       "43                2.0            NaN            NaN  \n",
       "282               2.0            NaN            NaN  \n",
       "230               2.0            NaN            NaN  "
      ]
     },
     "execution_count": 553,
     "metadata": {},
     "output_type": "execute_result"
    }
   ],
   "source": [
    "#stud_courses\n",
    "dist_fall_1['Statistical Learning Theory']"
   ]
  },
  {
   "cell_type": "code",
   "execution_count": 540,
   "metadata": {},
   "outputs": [
    {
     "name": "stderr",
     "output_type": "stream",
     "text": [
      "C:\\Users\\kirill-korolev\\anaconda3\\lib\\site-packages\\pandas\\core\\indexing.py:670: SettingWithCopyWarning: \n",
      "A value is trying to be set on a copy of a slice from a DataFrame\n",
      "\n",
      "See the caveats in the documentation: https://pandas.pydata.org/pandas-docs/stable/user_guide/indexing.html#returning-a-view-versus-a-copy\n",
      "  iloc._setitem_with_indexer(indexer, value)\n"
     ]
    }
   ],
   "source": [
    "for course, dist in dist_fall_1.items():\n",
    "    if dist.shape[0] > 0:\n",
    "        dist['is_first_place'] = np.nan\n",
    "        dist['is_first_place'].iloc[0] = True\n",
    "        \n",
    "        dist['is_last_place'] = np.nan\n",
    "        if courses_max_cap[course] == dist.shape[0]:\n",
    "            dist['is_last_place'].iloc[-1] = True\n"
   ]
  },
  {
   "cell_type": "markdown",
   "metadata": {
    "id": "vc5zXP5hhLu5"
   },
   "source": [
    "Здесь для проверки приведена таблица, в которой есть 2 дополнительные колонки:\n",
    "    \n",
    "    1) is_first_place - является ли студент лучшим по перцентили хотя бы на одном из курсов, куда он был зачислен \n",
    "    (True / NaN)\n",
    "    \n",
    "    2) is_last_place  - является ли студент худшим по перцентили хотя бы на одном из курсов, куда он был зачислен (True / NaN)"
   ]
  },
  {
   "cell_type": "code",
   "execution_count": 541,
   "metadata": {
    "id": "uZTkGEq5hLu5"
   },
   "outputs": [],
   "source": [
    "#!wget  -O '2_task_check.csv' -q 'https://www.dropbox.com/s/v8o2zzq3iz5gc9w/_2_task_check.csv?dl=0'\n",
    "#wget.download('https://www.dropbox.com/s/v8o2zzq3iz5gc9w/_2_task_check.csv?dl=1', '2_task_check.csv')\n",
    "\n",
    "check_df = pd.read_csv('2_task_check.csv')"
   ]
  },
  {
   "cell_type": "code",
   "execution_count": 542,
   "metadata": {},
   "outputs": [
    {
     "data": {
      "text/plain": [
       "0      True\n",
       "1       NaN\n",
       "2       NaN\n",
       "3       NaN\n",
       "4       NaN\n",
       "       ... \n",
       "342     NaN\n",
       "343     NaN\n",
       "344     NaN\n",
       "345     NaN\n",
       "346     NaN\n",
       "Name: is_first_place, Length: 347, dtype: object"
      ]
     },
     "execution_count": 542,
     "metadata": {},
     "output_type": "execute_result"
    }
   ],
   "source": [
    "check_df['is_first_place']"
   ]
  },
  {
   "cell_type": "markdown",
   "metadata": {
    "id": "E_fbyB9qhLu5"
   },
   "source": [
    "После распределения студентов в соответствии с первым приоритетом добавьте в свой датафрейм аналогичные признаки и запустите проверку:"
   ]
  },
  {
   "cell_type": "code",
   "execution_count": 543,
   "metadata": {
    "id": "GOAzQeYehLu6"
   },
   "outputs": [
    {
     "ename": "KeyError",
     "evalue": "'is_first_place'",
     "output_type": "error",
     "traceback": [
      "\u001b[1;31m---------------------------------------------------------------------------\u001b[0m",
      "\u001b[1;31mKeyError\u001b[0m                                  Traceback (most recent call last)",
      "\u001b[1;32m~\\anaconda3\\lib\\site-packages\\pandas\\core\\indexes\\base.py\u001b[0m in \u001b[0;36mget_loc\u001b[1;34m(self, key, method, tolerance)\u001b[0m\n\u001b[0;32m   2894\u001b[0m             \u001b[1;32mtry\u001b[0m\u001b[1;33m:\u001b[0m\u001b[1;33m\u001b[0m\u001b[1;33m\u001b[0m\u001b[0m\n\u001b[1;32m-> 2895\u001b[1;33m                 \u001b[1;32mreturn\u001b[0m \u001b[0mself\u001b[0m\u001b[1;33m.\u001b[0m\u001b[0m_engine\u001b[0m\u001b[1;33m.\u001b[0m\u001b[0mget_loc\u001b[0m\u001b[1;33m(\u001b[0m\u001b[0mcasted_key\u001b[0m\u001b[1;33m)\u001b[0m\u001b[1;33m\u001b[0m\u001b[1;33m\u001b[0m\u001b[0m\n\u001b[0m\u001b[0;32m   2896\u001b[0m             \u001b[1;32mexcept\u001b[0m \u001b[0mKeyError\u001b[0m \u001b[1;32mas\u001b[0m \u001b[0merr\u001b[0m\u001b[1;33m:\u001b[0m\u001b[1;33m\u001b[0m\u001b[1;33m\u001b[0m\u001b[0m\n",
      "\u001b[1;32mpandas\\_libs\\index.pyx\u001b[0m in \u001b[0;36mpandas._libs.index.IndexEngine.get_loc\u001b[1;34m()\u001b[0m\n",
      "\u001b[1;32mpandas\\_libs\\index.pyx\u001b[0m in \u001b[0;36mpandas._libs.index.IndexEngine.get_loc\u001b[1;34m()\u001b[0m\n",
      "\u001b[1;32mpandas\\_libs\\hashtable_class_helper.pxi\u001b[0m in \u001b[0;36mpandas._libs.hashtable.PyObjectHashTable.get_item\u001b[1;34m()\u001b[0m\n",
      "\u001b[1;32mpandas\\_libs\\hashtable_class_helper.pxi\u001b[0m in \u001b[0;36mpandas._libs.hashtable.PyObjectHashTable.get_item\u001b[1;34m()\u001b[0m\n",
      "\u001b[1;31mKeyError\u001b[0m: 'is_first_place'",
      "\nThe above exception was the direct cause of the following exception:\n",
      "\u001b[1;31mKeyError\u001b[0m                                  Traceback (most recent call last)",
      "\u001b[1;32m<ipython-input-543-8d0e733213fc>\u001b[0m in \u001b[0;36m<module>\u001b[1;34m\u001b[0m\n\u001b[0;32m      3\u001b[0m \u001b[1;33m\u001b[0m\u001b[0m\n\u001b[0;32m      4\u001b[0m \u001b[1;33m\u001b[0m\u001b[0m\n\u001b[1;32m----> 5\u001b[1;33m assert((stud_courses[stud_courses[fir_col_name].isna() == False][['id']].sort_values('id').reset_index(drop=True)\n\u001b[0m\u001b[0;32m      6\u001b[0m         \u001b[1;33m==\u001b[0m\u001b[1;33m\u001b[0m\u001b[1;33m\u001b[0m\u001b[0m\n\u001b[0;32m      7\u001b[0m         \u001b[0mcheck_df\u001b[0m\u001b[1;33m[\u001b[0m\u001b[0mcheck_df\u001b[0m\u001b[1;33m[\u001b[0m\u001b[1;34m'is_first_place'\u001b[0m\u001b[1;33m]\u001b[0m\u001b[1;33m.\u001b[0m\u001b[0misna\u001b[0m\u001b[1;33m(\u001b[0m\u001b[1;33m)\u001b[0m \u001b[1;33m==\u001b[0m \u001b[1;32mFalse\u001b[0m\u001b[1;33m]\u001b[0m\u001b[1;33m[\u001b[0m\u001b[1;33m[\u001b[0m\u001b[1;34m'id'\u001b[0m\u001b[1;33m]\u001b[0m\u001b[1;33m]\u001b[0m\u001b[1;33m.\u001b[0m\u001b[0msort_values\u001b[0m\u001b[1;33m(\u001b[0m\u001b[1;34m'id'\u001b[0m\u001b[1;33m)\u001b[0m\u001b[1;33m.\u001b[0m\u001b[0mreset_index\u001b[0m\u001b[1;33m(\u001b[0m\u001b[0mdrop\u001b[0m\u001b[1;33m=\u001b[0m\u001b[1;32mTrue\u001b[0m\u001b[1;33m)\u001b[0m\u001b[1;33m\u001b[0m\u001b[1;33m\u001b[0m\u001b[0m\n",
      "\u001b[1;32m~\\anaconda3\\lib\\site-packages\\pandas\\core\\frame.py\u001b[0m in \u001b[0;36m__getitem__\u001b[1;34m(self, key)\u001b[0m\n\u001b[0;32m   2900\u001b[0m             \u001b[1;32mif\u001b[0m \u001b[0mself\u001b[0m\u001b[1;33m.\u001b[0m\u001b[0mcolumns\u001b[0m\u001b[1;33m.\u001b[0m\u001b[0mnlevels\u001b[0m \u001b[1;33m>\u001b[0m \u001b[1;36m1\u001b[0m\u001b[1;33m:\u001b[0m\u001b[1;33m\u001b[0m\u001b[1;33m\u001b[0m\u001b[0m\n\u001b[0;32m   2901\u001b[0m                 \u001b[1;32mreturn\u001b[0m \u001b[0mself\u001b[0m\u001b[1;33m.\u001b[0m\u001b[0m_getitem_multilevel\u001b[0m\u001b[1;33m(\u001b[0m\u001b[0mkey\u001b[0m\u001b[1;33m)\u001b[0m\u001b[1;33m\u001b[0m\u001b[1;33m\u001b[0m\u001b[0m\n\u001b[1;32m-> 2902\u001b[1;33m             \u001b[0mindexer\u001b[0m \u001b[1;33m=\u001b[0m \u001b[0mself\u001b[0m\u001b[1;33m.\u001b[0m\u001b[0mcolumns\u001b[0m\u001b[1;33m.\u001b[0m\u001b[0mget_loc\u001b[0m\u001b[1;33m(\u001b[0m\u001b[0mkey\u001b[0m\u001b[1;33m)\u001b[0m\u001b[1;33m\u001b[0m\u001b[1;33m\u001b[0m\u001b[0m\n\u001b[0m\u001b[0;32m   2903\u001b[0m             \u001b[1;32mif\u001b[0m \u001b[0mis_integer\u001b[0m\u001b[1;33m(\u001b[0m\u001b[0mindexer\u001b[0m\u001b[1;33m)\u001b[0m\u001b[1;33m:\u001b[0m\u001b[1;33m\u001b[0m\u001b[1;33m\u001b[0m\u001b[0m\n\u001b[0;32m   2904\u001b[0m                 \u001b[0mindexer\u001b[0m \u001b[1;33m=\u001b[0m \u001b[1;33m[\u001b[0m\u001b[0mindexer\u001b[0m\u001b[1;33m]\u001b[0m\u001b[1;33m\u001b[0m\u001b[1;33m\u001b[0m\u001b[0m\n",
      "\u001b[1;32m~\\anaconda3\\lib\\site-packages\\pandas\\core\\indexes\\base.py\u001b[0m in \u001b[0;36mget_loc\u001b[1;34m(self, key, method, tolerance)\u001b[0m\n\u001b[0;32m   2895\u001b[0m                 \u001b[1;32mreturn\u001b[0m \u001b[0mself\u001b[0m\u001b[1;33m.\u001b[0m\u001b[0m_engine\u001b[0m\u001b[1;33m.\u001b[0m\u001b[0mget_loc\u001b[0m\u001b[1;33m(\u001b[0m\u001b[0mcasted_key\u001b[0m\u001b[1;33m)\u001b[0m\u001b[1;33m\u001b[0m\u001b[1;33m\u001b[0m\u001b[0m\n\u001b[0;32m   2896\u001b[0m             \u001b[1;32mexcept\u001b[0m \u001b[0mKeyError\u001b[0m \u001b[1;32mas\u001b[0m \u001b[0merr\u001b[0m\u001b[1;33m:\u001b[0m\u001b[1;33m\u001b[0m\u001b[1;33m\u001b[0m\u001b[0m\n\u001b[1;32m-> 2897\u001b[1;33m                 \u001b[1;32mraise\u001b[0m \u001b[0mKeyError\u001b[0m\u001b[1;33m(\u001b[0m\u001b[0mkey\u001b[0m\u001b[1;33m)\u001b[0m \u001b[1;32mfrom\u001b[0m \u001b[0merr\u001b[0m\u001b[1;33m\u001b[0m\u001b[1;33m\u001b[0m\u001b[0m\n\u001b[0m\u001b[0;32m   2898\u001b[0m \u001b[1;33m\u001b[0m\u001b[0m\n\u001b[0;32m   2899\u001b[0m         \u001b[1;32mif\u001b[0m \u001b[0mtolerance\u001b[0m \u001b[1;32mis\u001b[0m \u001b[1;32mnot\u001b[0m \u001b[1;32mNone\u001b[0m\u001b[1;33m:\u001b[0m\u001b[1;33m\u001b[0m\u001b[1;33m\u001b[0m\u001b[0m\n",
      "\u001b[1;31mKeyError\u001b[0m: 'is_first_place'"
     ]
    }
   ],
   "source": [
    "fir_col_name = 'is_first_place'\n",
    "last_col_name = 'is_last_place'\n",
    "\n",
    "\n",
    "assert((stud_courses[stud_courses[fir_col_name].isna() == False][['id']].sort_values('id').reset_index(drop=True)\n",
    "        ==\n",
    "        check_df[check_df['is_first_place'].isna() == False][['id']].sort_values('id').reset_index(drop=True)\n",
    "       ).id.values).all()\n",
    "\n",
    "\n",
    "assert((stud_courses[stud_courses[last_col_name].isna() == False][['id']].sort_values('id').reset_index(drop=True)\n",
    "       == \n",
    "       check_df[check_df['is_last_place'].isna() == False][['id']].sort_values('id').reset_index(drop=True)\n",
    "      ).id.values).all()"
   ]
  },
  {
   "cell_type": "markdown",
   "metadata": {
    "id": "RO6DwNNFhLu6"
   },
   "source": [
    "#### 3. [3 балла] Проведите все три волны отбора студентов на курсы по выбору"
   ]
  },
  {
   "cell_type": "code",
   "execution_count": null,
   "metadata": {
    "id": "jn2OOrLjhLu6"
   },
   "outputs": [],
   "source": [
    "# (￣^￣)ゞ"
   ]
  },
  {
   "cell_type": "markdown",
   "metadata": {
    "id": "1xQjV9BuhLu6"
   },
   "source": [
    "**Отправьте свой файл res_fall.csv в контест (https://contest.yandex.ru/contest/40211/problems/A/) и прикрепите/укажите ниже ваш никнейм и ссылку на успешную посылку.**"
   ]
  },
  {
   "cell_type": "markdown",
   "metadata": {
    "id": "QRTbPrgbhLu6"
   },
   "source": [
    "*Дисклеймер:*\n",
    "\n",
    "Успешная посылка в контесте является **обязательным** условием получения полного балла за этот (и следующий) пункт. Если добиться успешной посылки не удастся, баллы будут выставляться на усмотрение проверяюшего. \n",
    "\n",
    "При этом ОК в контесте не гарантирует полный балл. Оценка всё равно может быть снижена в случае обнаружения неэффективностей или ошибок в коде. Если вы сдадите в AnyTask очевидно неработающий код или ноутбук без кода, но при этом в контест будет сдан корректный файл, то это будет расцениваться как плагиат."
   ]
  },
  {
   "cell_type": "markdown",
   "metadata": {
    "id": "1IkQa_gdhLu6"
   },
   "source": [
    "На всякий случай просим вас сдать вместе с ноутбуком файл res_fall.csv в anytask"
   ]
  },
  {
   "cell_type": "markdown",
   "metadata": {
    "id": "k8d711qGhLu7"
   },
   "source": [
    "**Дополнительное задание. [2 бонусных балла] Распределите таким же образом студентов еще и на весенние курсы по выбору.**\n",
    "\n",
    "Если ваш код был хорошо структурирован, то это не составит проблем. \n",
    "\n",
    "Если вы выполнили это задание, сдайте среди прочего файл res_spring.csv в таком же формате, как и res_fall.csv."
   ]
  },
  {
   "cell_type": "code",
   "execution_count": null,
   "metadata": {
    "id": "hwmusOGThLu7"
   },
   "outputs": [],
   "source": [
    "# (￣^'￣)ゞ"
   ]
  },
  {
   "cell_type": "markdown",
   "metadata": {
    "id": "It7QQZLYhLu7"
   },
   "source": [
    "**Отправьте свой файл res_spring.csv в контест (https://contest.yandex.ru/contest/40211/problems/B/) и прикрепите/укажите ниже ваш никнейм и ссылку на успешную посылку.**"
   ]
  },
  {
   "cell_type": "markdown",
   "metadata": {
    "id": "1YcouVTihLu7"
   },
   "source": [
    "На всякий случай просим вас сдать вместе с ноутбуком файл res_spring.csv в anytask"
   ]
  },
  {
   "cell_type": "markdown",
   "metadata": {
    "id": "uY_OY6inhLu7"
   },
   "source": [
    "Вставьте картинку, описывающую ваш опыт выполнения этого задания:"
   ]
  },
  {
   "cell_type": "code",
   "execution_count": null,
   "metadata": {
    "id": "R9_7CnSFhLu7"
   },
   "outputs": [],
   "source": []
  }
 ],
 "metadata": {
  "colab": {
   "name": "homework-practice-01-pandas.ipynb",
   "provenance": []
  },
  "kernelspec": {
   "display_name": "Python 3",
   "language": "python",
   "name": "python3"
  },
  "language_info": {
   "codemirror_mode": {
    "name": "ipython",
    "version": 3
   },
   "file_extension": ".py",
   "mimetype": "text/x-python",
   "name": "python",
   "nbconvert_exporter": "python",
   "pygments_lexer": "ipython3",
   "version": "3.8.5"
  },
  "varInspector": {
   "cols": {
    "lenName": 16,
    "lenType": 16,
    "lenVar": 40
   },
   "kernels_config": {
    "python": {
     "delete_cmd_postfix": "",
     "delete_cmd_prefix": "del ",
     "library": "var_list.py",
     "varRefreshCmd": "print(var_dic_list())"
    },
    "r": {
     "delete_cmd_postfix": ") ",
     "delete_cmd_prefix": "rm(",
     "library": "var_list.r",
     "varRefreshCmd": "cat(var_dic_list()) "
    }
   },
   "types_to_exclude": [
    "module",
    "function",
    "builtin_function_or_method",
    "instance",
    "_Feature"
   ],
   "window_display": false
  },
  "vscode": {
   "interpreter": {
    "hash": "e7370f93d1d0cde622a1f8e1c04877d8463912d04d973331ad4851f04de6915a"
   }
  }
 },
 "nbformat": 4,
 "nbformat_minor": 1
}
